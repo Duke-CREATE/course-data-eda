{
  "cells": [
    {
      "attachments": {},
      "cell_type": "markdown",
      "metadata": {
        "id": "W390nLBmZlId"
      },
      "source": [
        "# Semantic Search\n",
        "\n",
        "In this notebook we will use Pinecone for semantic search. To begin we must install the required prerequisite libraries:\n",
        "\n",
        "----\n",
        "\n",
        "pip install \"pinecone-client[grpc]==2.2.1\" datasets==2.12.0 sentence-transformers==2.2.2\n",
        "\n",
        "----"
      ]
    },
    {
      "cell_type": "code",
      "execution_count": 13,
      "metadata": {},
      "outputs": [],
      "source": [
        "import pandas as pd\n",
        "import numpy as np\n",
        "import pinecone"
      ]
    },
    {
      "attachments": {},
      "cell_type": "markdown",
      "metadata": {
        "id": "hrSfFiIC5roI"
      },
      "source": [
        "## Data Preprocessing"
      ]
    },
    {
      "attachments": {},
      "cell_type": "markdown",
      "metadata": {
        "id": "kujS_e8s55oJ"
      },
      "source": [
        "The dataset preparation process requires a few steps:\n",
        "\n",
        "1. Load dataset from our directory.\n",
        "\n",
        "2. The text content of the dataset is embedded into vectors.\n",
        "\n",
        "3. We reformat into a `(id, vector, metadata)` structure to be added to Pinecone.\n",
        "\n",
        "We will see how steps `1`, `2`, and `3` are done in this section, but we won't implement `2` and `3` across the whole dataset until we reach the *upsert loop* as we will iteratively perform these two steps.\n",
        "\n",
        "In either case, this can take some time. If you'd rather skip the data preparation step and get straight to upserts and testing the semantic search functionality, you should \n",
        "refer to the [**fast notebook**](https://github.com/pinecone-io/examples/blob/master/docs/semantic-search.ipynb)."
      ]
    },
    {
      "cell_type": "code",
      "execution_count": 43,
      "metadata": {},
      "outputs": [
        {
          "name": "stdout",
          "output_type": "stream",
          "text": [
            "Dataframe Shape: (43482, 21)\n"
          ]
        },
        {
          "data": {
            "text/html": [
              "<div>\n",
              "<style scoped>\n",
              "    .dataframe tbody tr th:only-of-type {\n",
              "        vertical-align: middle;\n",
              "    }\n",
              "\n",
              "    .dataframe tbody tr th {\n",
              "        vertical-align: top;\n",
              "    }\n",
              "\n",
              "    .dataframe thead th {\n",
              "        text-align: right;\n",
              "    }\n",
              "</style>\n",
              "<table border=\"1\" class=\"dataframe\">\n",
              "  <thead>\n",
              "    <tr style=\"text-align: right;\">\n",
              "      <th></th>\n",
              "      <th>Course ID</th>\n",
              "      <th>Class Nbr</th>\n",
              "      <th>Subject</th>\n",
              "      <th>Catalog</th>\n",
              "      <th>Descr</th>\n",
              "      <th>PI Name</th>\n",
              "      <th>Course Long Descr</th>\n",
              "      <th>Section</th>\n",
              "      <th>Component</th>\n",
              "      <th>Mode</th>\n",
              "      <th>...</th>\n",
              "      <th>Mtg Start</th>\n",
              "      <th>Mtg End</th>\n",
              "      <th>Pat</th>\n",
              "      <th>Start Date</th>\n",
              "      <th>End Date</th>\n",
              "      <th>Descr 1</th>\n",
              "      <th>Attribute Formal Desc</th>\n",
              "      <th>Term Descr</th>\n",
              "      <th>Career</th>\n",
              "      <th>Location</th>\n",
              "    </tr>\n",
              "  </thead>\n",
              "  <tbody>\n",
              "    <tr>\n",
              "      <th>0</th>\n",
              "      <td>19</td>\n",
              "      <td>8275</td>\n",
              "      <td>AMES</td>\n",
              "      <td>165S</td>\n",
              "      <td>THE WORLD OF JAPANESE POP CULT</td>\n",
              "      <td>Maude,Daryl J</td>\n",
              "      <td>An examination of modern Japanese culture thro...</td>\n",
              "      <td>01</td>\n",
              "      <td>SEM</td>\n",
              "      <td>In Person</td>\n",
              "      <td>...</td>\n",
              "      <td>11:45:00.000000AM</td>\n",
              "      <td>1:00:00.000000PM</td>\n",
              "      <td>TTH</td>\n",
              "      <td>8/28/23</td>\n",
              "      <td>12/8/23</td>\n",
              "      <td>Languages 207</td>\n",
              "      <td>(ALP) Arts, Literature &amp; Performance</td>\n",
              "      <td>2023 Fall Term</td>\n",
              "      <td>UGRD</td>\n",
              "      <td>DURHAM</td>\n",
              "    </tr>\n",
              "    <tr>\n",
              "      <th>1</th>\n",
              "      <td>19</td>\n",
              "      <td>8275</td>\n",
              "      <td>AMES</td>\n",
              "      <td>165S</td>\n",
              "      <td>THE WORLD OF JAPANESE POP CULT</td>\n",
              "      <td>Maude,Daryl J</td>\n",
              "      <td>An examination of modern Japanese culture thro...</td>\n",
              "      <td>01</td>\n",
              "      <td>SEM</td>\n",
              "      <td>In Person</td>\n",
              "      <td>...</td>\n",
              "      <td>11:45:00.000000AM</td>\n",
              "      <td>1:00:00.000000PM</td>\n",
              "      <td>TTH</td>\n",
              "      <td>8/28/23</td>\n",
              "      <td>12/8/23</td>\n",
              "      <td>Languages 207</td>\n",
              "      <td>(CCI) Cross Cultural Inquiry</td>\n",
              "      <td>2023 Fall Term</td>\n",
              "      <td>UGRD</td>\n",
              "      <td>DURHAM</td>\n",
              "    </tr>\n",
              "    <tr>\n",
              "      <th>2</th>\n",
              "      <td>19</td>\n",
              "      <td>8275</td>\n",
              "      <td>AMES</td>\n",
              "      <td>165S</td>\n",
              "      <td>THE WORLD OF JAPANESE POP CULT</td>\n",
              "      <td>Maude,Daryl J</td>\n",
              "      <td>An examination of modern Japanese culture thro...</td>\n",
              "      <td>01</td>\n",
              "      <td>SEM</td>\n",
              "      <td>In Person</td>\n",
              "      <td>...</td>\n",
              "      <td>11:45:00.000000AM</td>\n",
              "      <td>1:00:00.000000PM</td>\n",
              "      <td>TTH</td>\n",
              "      <td>8/28/23</td>\n",
              "      <td>12/8/23</td>\n",
              "      <td>Languages 207</td>\n",
              "      <td>(CZ) Civilizations</td>\n",
              "      <td>2023 Fall Term</td>\n",
              "      <td>UGRD</td>\n",
              "      <td>DURHAM</td>\n",
              "    </tr>\n",
              "    <tr>\n",
              "      <th>3</th>\n",
              "      <td>19</td>\n",
              "      <td>8275</td>\n",
              "      <td>AMES</td>\n",
              "      <td>165S</td>\n",
              "      <td>THE WORLD OF JAPANESE POP CULT</td>\n",
              "      <td>Maude,Daryl J</td>\n",
              "      <td>An examination of modern Japanese culture thro...</td>\n",
              "      <td>01</td>\n",
              "      <td>SEM</td>\n",
              "      <td>In Person</td>\n",
              "      <td>...</td>\n",
              "      <td>11:45:00.000000AM</td>\n",
              "      <td>1:00:00.000000PM</td>\n",
              "      <td>TTH</td>\n",
              "      <td>8/28/23</td>\n",
              "      <td>12/8/23</td>\n",
              "      <td>Languages 207</td>\n",
              "      <td>Crosslisted in another department</td>\n",
              "      <td>2023 Fall Term</td>\n",
              "      <td>UGRD</td>\n",
              "      <td>DURHAM</td>\n",
              "    </tr>\n",
              "    <tr>\n",
              "      <th>4</th>\n",
              "      <td>19</td>\n",
              "      <td>8275</td>\n",
              "      <td>AMES</td>\n",
              "      <td>165S</td>\n",
              "      <td>THE WORLD OF JAPANESE POP CULT</td>\n",
              "      <td>Maude,Daryl J</td>\n",
              "      <td>An examination of modern Japanese culture thro...</td>\n",
              "      <td>01</td>\n",
              "      <td>SEM</td>\n",
              "      <td>In Person</td>\n",
              "      <td>...</td>\n",
              "      <td>11:45:00.000000AM</td>\n",
              "      <td>1:00:00.000000PM</td>\n",
              "      <td>TTH</td>\n",
              "      <td>8/28/23</td>\n",
              "      <td>12/8/23</td>\n",
              "      <td>Languages 207</td>\n",
              "      <td>Seminar</td>\n",
              "      <td>2023 Fall Term</td>\n",
              "      <td>UGRD</td>\n",
              "      <td>DURHAM</td>\n",
              "    </tr>\n",
              "  </tbody>\n",
              "</table>\n",
              "<p>5 rows × 21 columns</p>\n",
              "</div>"
            ],
            "text/plain": [
              "   Course ID  Class Nbr Subject Catalog                           Descr  \\\n",
              "0         19       8275    AMES    165S  THE WORLD OF JAPANESE POP CULT   \n",
              "1         19       8275    AMES    165S  THE WORLD OF JAPANESE POP CULT   \n",
              "2         19       8275    AMES    165S  THE WORLD OF JAPANESE POP CULT   \n",
              "3         19       8275    AMES    165S  THE WORLD OF JAPANESE POP CULT   \n",
              "4         19       8275    AMES    165S  THE WORLD OF JAPANESE POP CULT   \n",
              "\n",
              "         PI Name                                  Course Long Descr Section  \\\n",
              "0  Maude,Daryl J  An examination of modern Japanese culture thro...      01   \n",
              "1  Maude,Daryl J  An examination of modern Japanese culture thro...      01   \n",
              "2  Maude,Daryl J  An examination of modern Japanese culture thro...      01   \n",
              "3  Maude,Daryl J  An examination of modern Japanese culture thro...      01   \n",
              "4  Maude,Daryl J  An examination of modern Japanese culture thro...      01   \n",
              "\n",
              "  Component       Mode  ...          Mtg Start            Mtg End  Pat  \\\n",
              "0       SEM  In Person  ...  11:45:00.000000AM   1:00:00.000000PM  TTH   \n",
              "1       SEM  In Person  ...  11:45:00.000000AM   1:00:00.000000PM  TTH   \n",
              "2       SEM  In Person  ...  11:45:00.000000AM   1:00:00.000000PM  TTH   \n",
              "3       SEM  In Person  ...  11:45:00.000000AM   1:00:00.000000PM  TTH   \n",
              "4       SEM  In Person  ...  11:45:00.000000AM   1:00:00.000000PM  TTH   \n",
              "\n",
              "  Start Date End Date        Descr 1                 Attribute Formal Desc  \\\n",
              "0    8/28/23  12/8/23  Languages 207  (ALP) Arts, Literature & Performance   \n",
              "1    8/28/23  12/8/23  Languages 207          (CCI) Cross Cultural Inquiry   \n",
              "2    8/28/23  12/8/23  Languages 207                    (CZ) Civilizations   \n",
              "3    8/28/23  12/8/23  Languages 207     Crosslisted in another department   \n",
              "4    8/28/23  12/8/23  Languages 207                               Seminar   \n",
              "\n",
              "       Term Descr Career Location  \n",
              "0  2023 Fall Term   UGRD   DURHAM  \n",
              "1  2023 Fall Term   UGRD   DURHAM  \n",
              "2  2023 Fall Term   UGRD   DURHAM  \n",
              "3  2023 Fall Term   UGRD   DURHAM  \n",
              "4  2023 Fall Term   UGRD   DURHAM  \n",
              "\n",
              "[5 rows x 21 columns]"
            ]
          },
          "execution_count": 43,
          "metadata": {},
          "output_type": "execute_result"
        }
      ],
      "source": [
        "# load course dataset\n",
        "dataset_df = pd.read_csv('data/all_minus_med.csv')\n",
        "print('Dataframe Shape:', dataset_df.shape)\n",
        "dataset_df.head()"
      ]
    },
    {
      "cell_type": "markdown",
      "metadata": {},
      "source": [
        "The dataset contains 43482 courses and information about their description, subject, number, times offered, etc. at Duke University."
      ]
    },
    {
      "attachments": {},
      "cell_type": "markdown",
      "metadata": {
        "id": "ngFHND1nQQU2"
      },
      "source": [
        "The dataset contains ~400K pairs of natural language questions from Quora."
      ]
    },
    {
      "attachments": {},
      "cell_type": "markdown",
      "metadata": {
        "id": "H_Zy8zoeQmRZ"
      },
      "source": [
        "We can extract all course descriptions into a single `descriptions` list."
      ]
    },
    {
      "cell_type": "code",
      "execution_count": 44,
      "metadata": {
        "colab": {
          "base_uri": "https://localhost:8080/"
        },
        "id": "heGUpy_37Eis",
        "outputId": "a9b61af4-6595-44fc-bd35-7a7501b26123"
      },
      "outputs": [
        {
          "name": "stdout",
          "output_type": "stream",
          "text": [
            "1 ) See African & African American Studies 391. Consent of both instructor and director of undergraduate studies required.\n",
            "\n",
            "2 ) Topics vary.  May be repeated for credit\n",
            "\n",
            "3 ) This course focuses on creating a solid foundation for nursing care of individuals across the lifespan. Students use clinical reasoning, therapeutic communication, and the nursing process to provide competent, evidence-based, safe and holistic care. Emphasis is placed on health assessment and the introduction of skills necessary to maintain wellness and promote the health of diverse populations in all stages of life. Corequisite: Nursing 393\n",
            "\n",
            "4 ) Probability models, random variables with discrete and continuous distributions. Independence, joint distributions, conditional distributions. Expectations, functions of random variables, central limit theorem. An assignment will ask the student to relate this course to their research.\n",
            "\n",
            "5 ) Tutorial course for Bass Connections yearlong project team. Topics vary by semester and section. Teams of graduate and undergraduate students work with faculty to build connections between neuroscience and socially challenging questions in healthcare, the humanities, policy, economics, ethics and law. Teams may include external partners. Work may run in parallel with or contribute to ongoing faculty-led research. Teams participate in seminars, data collection and analysis, lab work, field work, and other relevant learning or research experiences. Requires final paper or product containing significant analysis and interpretation. Instructor consent required.\n",
            "\n"
          ]
        }
      ],
      "source": [
        "# convert course descriptions to list\n",
        "descriptions = dataset_df['Course Long Descr'].tolist()\n",
        "# remove duplicates\n",
        "descriptions = list(set(descriptions))\n",
        "\n",
        "# print first 5 descriptions\n",
        "for i in range(5):\n",
        "    print(i+1, ')', descriptions[i])\n",
        "    print()\n",
        "\n",
        "# convert to csv and store in data directory\n",
        "descriptions_df = pd.DataFrame(descriptions, columns=['Course Long Descr'])\n",
        "descriptions_df.to_csv('data/descriptions.csv', index=False)"
      ]
    },
    {
      "cell_type": "markdown",
      "metadata": {},
      "source": [
        "We find the mean, median, minimum, and maximumm number of words in descriptions."
      ]
    },
    {
      "cell_type": "code",
      "execution_count": 16,
      "metadata": {},
      "outputs": [
        {
          "name": "stdout",
          "output_type": "stream",
          "text": [
            "Minimum number of words: 2\n",
            "Maximum number of words: 262\n",
            "Median number of words: 61\n",
            "Mean number of words: 60.75444635685599\n"
          ]
        }
      ],
      "source": [
        "# Calculate the number of words for each description\n",
        "num_words = [len(description.split()) for description in descriptions if isinstance(description, str)]\n",
        "\n",
        "# Calculate the minimum, maximum, median, and mean number of words\n",
        "minimum = min(num_words)\n",
        "maximum = max(num_words)\n",
        "median = sorted(num_words)[len(num_words) // 2]\n",
        "mean = sum(num_words) / len(num_words)\n",
        "\n",
        "# Print the results\n",
        "print(\"Minimum number of words:\", minimum)\n",
        "print(\"Maximum number of words:\", maximum)\n",
        "print(\"Median number of words:\", median)\n",
        "print(\"Mean number of words:\", mean)"
      ]
    },
    {
      "attachments": {},
      "cell_type": "markdown",
      "metadata": {
        "id": "4BknpfucRkkm"
      },
      "source": [
        "With our descriptions ready to go we can move on to demoing steps **2** and **3** above.\n",
        "\n",
        "### Building Embeddings and Upsert Format\n",
        "\n",
        "To create our embeddings we will us the `MiniLM-L6` sentence transformer model. This is a very efficient semantic similarity embedding model from the `sentence-transformers` library. We initialize it like so:"
      ]
    },
    {
      "cell_type": "code",
      "execution_count": 21,
      "metadata": {
        "colab": {
          "base_uri": "https://localhost:8080/"
        },
        "id": "uxcGjb9GSEqA",
        "outputId": "e3b269d0-c7f4-41d8-85ad-5a94a0b79d8d"
      },
      "outputs": [
        {
          "name": "stdout",
          "output_type": "stream",
          "text": [
            "You are using cpu. This is much slower than using a CUDA-enabled GPU. If on Colab you can change this by clicking Runtime > Change runtime type > GPU.\n"
          ]
        },
        {
          "data": {
            "text/plain": [
              "SentenceTransformer(\n",
              "  (0): Transformer({'max_seq_length': 256, 'do_lower_case': False}) with Transformer model: BertModel \n",
              "  (1): Pooling({'word_embedding_dimension': 384, 'pooling_mode_cls_token': False, 'pooling_mode_mean_tokens': True, 'pooling_mode_max_tokens': False, 'pooling_mode_mean_sqrt_len_tokens': False})\n",
              "  (2): Normalize()\n",
              ")"
            ]
          },
          "execution_count": 21,
          "metadata": {},
          "output_type": "execute_result"
        }
      ],
      "source": [
        "from sentence_transformers import SentenceTransformer\n",
        "import torch\n",
        "\n",
        "device = 'cuda' if torch.cuda.is_available() else 'cpu'\n",
        "if device != 'cuda':\n",
        "    print(f\"You are using {device}. This is much slower than using \"\n",
        "          \"a CUDA-enabled GPU. If on Colab you can change this by \"\n",
        "          \"clicking Runtime > Change runtime type > GPU.\")\n",
        "\n",
        "model = SentenceTransformer('all-MiniLM-L6-v2', device=device)\n",
        "model"
      ]
    },
    {
      "attachments": {},
      "cell_type": "markdown",
      "metadata": {
        "id": "iy2itPb0S5js"
      },
      "source": [
        "There are *three* interesting bits of information in the above model printout. Those are:\n",
        "\n",
        "* `max_seq_length` is `256`. That means that the maximum number of tokens (like words) that can be encoded into a single vector embedding is `256`. Anything beyond this *must* be truncated.\n",
        "\n",
        "* `word_embedding_dimension` is `384`. This number is the dimensionality of vectors output by this model. It is important that we know this number later when initializing our Pinecone vector index.\n",
        "\n",
        "* `Normalize()`. This final normalization step indicates that all vectors produced by the model are normalized. That means that models that we would typical measure similarity for using *cosine similarity* can also make use of the *dotproduct* similarity metric. In fact, with normalized vectors *cosine* and *dotproduct* are equivalent.\n",
        "\n",
        "Moving on, we can create a sentence embedding using this model like so:"
      ]
    },
    {
      "cell_type": "code",
      "execution_count": 22,
      "metadata": {
        "colab": {
          "base_uri": "https://localhost:8080/"
        },
        "id": "dyzoJEsAULOe",
        "outputId": "a1ea6149-4b2d-4dfb-e984-b067fb9980d5"
      },
      "outputs": [
        {
          "data": {
            "text/plain": [
              "(384,)"
            ]
          },
          "execution_count": 22,
          "metadata": {},
          "output_type": "execute_result"
        }
      ],
      "source": [
        "query = 'classes that teach about machine learning'\n",
        "\n",
        "xq = model.encode(query)\n",
        "xq.shape"
      ]
    },
    {
      "attachments": {},
      "cell_type": "markdown",
      "metadata": {
        "id": "qVZi8xevUWM6"
      },
      "source": [
        "Encoding this single sentence leaves us with a `384` dimensional sentence embedding (aligned to the `word_embedding_dimension` above).\n",
        "\n",
        "To prepare this for `upsert` to Pinecone, all we do is this:"
      ]
    },
    {
      "cell_type": "code",
      "execution_count": 23,
      "metadata": {
        "id": "T38HdqxwVg6p"
      },
      "outputs": [],
      "source": [
        "_id = '0'\n",
        "metadata = {'text': query}\n",
        "\n",
        "vectors = [(_id, xq, metadata)]"
      ]
    },
    {
      "attachments": {},
      "cell_type": "markdown",
      "metadata": {
        "id": "wiXig_rHV2Wz"
      },
      "source": [
        "Later when we do upsert our data to Pinecone, we will be doing so in batches. Meaning `vectors` will be a list of `(id, embedding, metadata)` tuples."
      ]
    },
    {
      "attachments": {},
      "cell_type": "markdown",
      "metadata": {
        "id": "ebd7XSamfMsC"
      },
      "source": [
        "## Creating an Index\n",
        "\n",
        "Now the data is ready, we can set up our index to store it.\n",
        "\n",
        "We begin by initializing our connection to Pinecone. To do this we need a [free API key](https://app.pinecone.io)."
      ]
    },
    {
      "cell_type": "code",
      "execution_count": 24,
      "metadata": {
        "id": "mc66NEBAcQHY"
      },
      "outputs": [],
      "source": [
        "import os\n",
        "import pinecone\n",
        "\n",
        "from dotenv import load_dotenv\n",
        "load_dotenv()\n",
        "# get api key from app.pinecone.io\n",
        "api_key = os.environ.get('PINECONE_API_KEY')\n",
        "# find your environment next to the api key in pinecone console\n",
        "env = os.environ.get('PINECONE_ENVIRONMENT', 'env')\n",
        "\n",
        "pinecone.init(\n",
        "    api_key=api_key,\n",
        "    environment='gcp-starter'\n",
        ")"
      ]
    },
    {
      "attachments": {},
      "cell_type": "markdown",
      "metadata": {
        "id": "SdaTip6CfllN"
      },
      "source": [
        "Now we create a new index called `duke-course-desc`. It's important that we align the index `dimension` and `metric` parameters with those required by the `MiniLM-L6` model."
      ]
    },
    {
      "cell_type": "code",
      "execution_count": 25,
      "metadata": {
        "tags": [
          "parameters"
        ]
      },
      "outputs": [],
      "source": [
        "index_name = 'duke-course-desc'\n",
        "hostname='https://duke-course-desc-ea5f15c.svc.gcp-starter.pinecone.io'"
      ]
    },
    {
      "cell_type": "code",
      "execution_count": 26,
      "metadata": {
        "id": "p1pyQh8gfm2-"
      },
      "outputs": [],
      "source": [
        "# only create index if it doesn't exist\n",
        "if index_name not in pinecone.list_indexes():\n",
        "    pinecone.create_index(\n",
        "        name=index_name,\n",
        "        dimension=model.get_sentence_embedding_dimension(),\n",
        "        metric='cosine',\n",
        "        hostname=hostname\n",
        "    )\n",
        "# now connect to the index\n",
        "index = pinecone.Index(index_name)"
      ]
    },
    {
      "attachments": {},
      "cell_type": "markdown",
      "metadata": {
        "id": "YUd1VGg6i108"
      },
      "source": [
        "Now we upsert the data, we will do this in batches of `128`.\n",
        "\n",
        "_**Note:** On Google Colab with GPU expected runtime is ~7 minutes. If using CPU this will be significantly longer. If you'd like to get this running faster refer to the [fast notebook](https://github.com/pinecone-io/examples/blob/master/search/semantic-search/semantic-search-fast.ipynb)._"
      ]
    },
    {
      "cell_type": "code",
      "execution_count": 30,
      "metadata": {
        "colab": {
          "base_uri": "https://localhost:8080/",
          "height": 120,
          "referenced_widgets": [
            "0e5dc9a271184100a92cd6b373ab8e7d",
            "8396bfd36c2b4869a0b4680587b604f1",
            "d714f8b3ebca4195b747ab18d196b88b",
            "56266bc7062541f5ba042848205270ef",
            "78fab28034dd428c9f49a5653fd003e5",
            "d8ca1c42783f41a8bd17491073883fdd",
            "cffd5e66b82344b0946630eb320ca5b4",
            "b63c0eee680f4708a4c68a4746cb21a4",
            "12e8c994f3ac4f88ae5387c72b4d8cc7",
            "9ea70e9ea5fb4040a080b941950b0fef",
            "b30a98ddfc1841e381937571edcfae71"
          ]
        },
        "id": "RhR6WOi1huXZ",
        "outputId": "ef9f74ef-2ae3-4eb3-cef4-6814e98861a7"
      },
      "outputs": [
        {
          "name": "stderr",
          "output_type": "stream",
          "text": [
            "  0%|          | 0/28 [00:00<?, ?it/s]"
          ]
        },
        {
          "name": "stdout",
          "output_type": "stream",
          "text": [
            "[{'text': 'See African & African American Studies 391. Consent of both instructor and director of undergraduate studies required.'}, {'text': 'Topics vary.  May be repeated for credit'}, {'text': 'This course focuses on creating a solid foundation for nursing care of individuals across the lifespan. Students use clinical reasoning, therapeutic communication, and the nursing process to provide competent, evidence-based, safe and holistic care. Emphasis is placed on health assessment and the introduction of skills necessary to maintain wellness and promote the health of diverse populations in all stages of life. Corequisite: Nursing 393'}, {'text': 'Probability models, random variables with discrete and continuous distributions. Independence, joint distributions, conditional distributions. Expectations, functions of random variables, central limit theorem. An assignment will ask the student to relate this course to their research.'}, {'text': 'Tutorial course for Bass Connections yearlong project team. Topics vary by semester and section. Teams of graduate and undergraduate students work with faculty to build connections between neuroscience and socially challenging questions in healthcare, the humanities, policy, economics, ethics and law. Teams may include external partners. Work may run in parallel with or contribute to ongoing faculty-led research. Teams participate in seminars, data collection and analysis, lab work, field work, and other relevant learning or research experiences. Requires final paper or product containing significant analysis and interpretation. Instructor consent required.'}, {'text': 'Chinese and Western ethics compared, including conceptions of the virtues, the good life, right action, and the person. Instructor permission required.'}, {'text': \"The reality of business life is that no person is an island�smart quantitative analysis without the support of employees, colleagues, or supervisors goes nowhere. To succeed in your career and to improve the performance of your company requires working with others effectively. The goal of LEO, therefore, is to prepare you to be an effective leader and manager of others regardless of your career path and to be a good analyst of how best to organize people. The course will accomplish these goals by focusing on two broad sets of questions. First, what principles can you draw on to analyze and improve performance in organizations? We will examine principles for designing incentive systems, motivating employees, running effective teams, making good decisions, harnessing diversity, and organizing the distribution of work. The second set of questions concerns what you need to do as an individual to be an effective leader. What can you contribute to your firm and why should others respect and listen to you? We will challenge you to reflect on your own personal strengths and weaknesses and to develop specific strategies for making a difference in the organizations to which you'll belong. This course is for Daytime MBA and Accelerated Daytime MBA students.\"}, {'text': 'Discussion Component of Physics 152L.'}, {'text': 'Principles of securing the creation, storage, and transmission of data and ensuring its integrity, confidentiality, and availability. Topics include access control and authentication in distributed systems; cryptography and cryptographic protocols (mainly key exchange protocols); user authentication; software vulnerabilities and software engineering to reduce vulnerabilities; firewalls and related technologies; technologies to support online privacy; and selected advanced topics. Prerequisite: Computer Science 210D or 250D and Computer Science 230.'}, {'text': 'Designed for advanced graduate students, this course will highlight current debates in feminist studies through a topical approach that draws on faculty research and expertise.'}, {'text': 'Data Management and Quality for Biomedical PhD Students is offered via Duke LMS (Learning Management System). In Years 2 and 3, PhD students in the School of Medicine are required to take this course comprised of 3 online interactive modules. Each module is accompanied by an assessment. This course is presented with interactive graphics, text-based activities, short videos, and discipline specific scenarios. Data Management and Quality for Biomedical PhD Students includes 3 modules: 1) Research Quality and Reproducibility; 2) Data Management; 3) Data and Resource Sharing. This course is required for all biomedical PhD students in year 2 or 3.'}, {'text': 'Exploration of key concepts in Earth sciences using field and laboratory techniques. Focus on collecting, analyzing and interpreting observational, geophysical, and geochemical data in order to experience how scientists conduct research to answer fundamental questions about how the Earth works. Modules vary by semester and may include local and global studies of plate tectonics, geological history, groundwater and surface water, geohazards, geophysical imaging of the sub-surface, geochemical chemical analyses, remote sensing studies, and how humans impact these systems. Local fieldwork and optional weekend fieldtrip to Appalachians or NC coast. Pre- or co-requisite: ECS/EOS 101.'}, {'text': 'In-depth examination of internal armed conflict. Exploration of micro and macro level approaches to causes of civil wars; types of civil wars; ethnicity and conflict; warfare; repertoires and dynamics of violence in conflict; armed group organizations and their tactics; relationship between armed groups and the state; duration and termination of internal conflicts; consequences of conflict and processes of transitional justice after conflict termination. Overview of both classical and more recent works on these topics.'}, {'text': \"Imagine driving a car, blindfolded, with instructions from the backseat on what to do and they are rarely in agreement. How do you decide what to do, which instructions to rely on? Policy making in a fast-moving epidemic (such as the COVID-19) can often look like this. This course will help students understand: Where does data for policy come from? How is data on epidemics generated and synthesized? Why does data become controversial � what is the 'truth'? Responding to data � differences between clinical settings and population settings. How does data inform policy � or more precisely, why does it not inform policy. How can future leaders do better? Consent required.\"}, {'text': 'A research tutorial developed in cooperation with an externship faculty supervisor, to supplement an externship and externship research paper. Variable credit. With permission only.'}, {'text': 'Individual non-research directed study in a field of special interest on a previously approved topic, under the supervision of a faculty member, resulting in a significant academic product. By consent of instructor and DGS.'}, {'text': 'Introduction to ancient Greek poetry. Recommended prerequisite: Greek 203 or the equivalent.'}, {'text': 'Same as Linguist 216S; open only to students in the Focus Program. Prerequisite: Advanced placement credit in Biology.'}, {'text': 'Introduction to algorithmic and analytic methods specific to textual data. Subject areas covered are speech recognition, optical character recognition, text parsing, and document analysis. Analysis tools taught include sentiment analysis/topic models, auto-correct, auto-complete, and translation systems. Applications to brain-computer interface communication systems, intelligent personal assistants, and plagiarism detection systems. Prerequisite: ECE 480 or ECE 580 or ECE 581 or ECE 682D or Mathematics 541 or Mathematics 730 or Mathematics 740.'}, {'text': 'Feminist research on gender dynamics in markets, economies, and capitalism. Includes empirical studies (e.g., historical, cross-cultural, and sociological research) and theoretical approaches to political-economic critique. Covered topics may include the gender, racial and transnational divisions of labor, the relation between work and family, waged household labor, sex work, sweatshop labor.'}, {'text': 'This course traces the deep and pervasive impact African Americans have had on music in the United States. Musicians include Louis Armstrong, Bessie Smith, James Brown, Aretha Franklin, John Coltrane, Marian Anderson, Sam Cooke, Olly Wilson, Duke Ellington, Florence Price, William Grant Still, Alicia Keys, Kirk Franklin, and Megan Thee Stallion. The course demonstrates musical, cultural and political connections between these different streams of music and American society. Students will discover the myriad ways that the very soul of America has been conditioned by the practices of Black music.'}, {'text': 'Explores what great literature and drama teach about mind, morals, and meaning of life. Examines how fiction, drama, and poetry speak truthfully about human condition though what they say may be literally false. Can literature answer questions like: What makes life worth living? Why be moral? Selections and films from, and based on the works of Sophocles, Aristotle, Shakespeare, Dostoevsky, Whitman, Camus, T.S. Eliot, Steinbeck, Sylvia Plath, Mary Gordon.'}, {'text': 'DIRECTED STUDY'}, {'text': 'The focus of this course will be on major financial decisions of established technology corporations as well as entrepreneurial ventures. Analytical models and theories will be covered via problems and cases. Specific areas will include asset management, short-term and long-term borrowing, advanced capital budgeting strategies, determination of capital structure, dividend policy, international issues, and mergers and other forms of restructuring. Prerequisite: enrollment in the Master of Engineering Management Program.'}, {'text': 'This beginner course is for students with limited or no prior yoga experience. This course introduces the student to foundational yoga philosophy as well as the physical and mindful aspects of yoga. Topics covered will include breathing techniques, postures, alignment, anatomy, meditation, mindfulness, the eight limbs of yoga, various styles of yoga, lifelong benefits of yoga and strategies for maintaining a yoga practice. Each class will introduce a yoga-related topic followed by a series of poses that build on previous lessons. Relaxation and meditation techniques will be practiced in every class.'}, {'text': \"Bass Connections Year-long Project Team. Topics vary depending on semester and section. Teams of undergraduate and graduate students work with faculty to investigate how race intersects with various aspects of society and lived experience. Teams often work with external experts and partners. A team's work may run in parallel with or contribute to an ongoing research project. Teams will participate in seminars, data collection and analysis, field work and/or other learning experiences relevant to the project. Requires final paper or product containing significant analysis and interpretation. Instructor consent required.\"}, {'text': 'Field seminar on the evolution of beaches and barrier islands with emphasis on the interactions between nearshore processes and human development. Prerequisite: Earth and Climate Sciences 315/515 or consent of instructor. Also taught as Earth and Climate Sciences 316A.'}, {'text': 'Students who have finished three semesters of law school study, including an approved prerequisite relevant to their intended area of focus, may apply through Duke Law to the Center for Public Research and Leadership (CPRL) program at Columbia Law, to work on a project team and field placement related to education and other public sectors.  Prerequisite courses must be approved by externship director.'}, {'text': 'Explores the processes of bargaining and negotiation; the dynamics of interpersonal and intergroup conflict; and understanding of theory and research related to the processes of influence, negotiation, and conflict management. Skills will be developed through extensive case analysis, role playing, and simulation. This course is for Global Executive MBA and Weekend Executive MBA students.'}, {'text': 'Continuation of Law 445 Immigrant Rights Clinic. Instructor consent required.'}, {'text': 'Study arranged on a special engineering topic in which the faculty has particular interest and competence as a result of research and professional activities. Consent of instructor and director of undergraduate studies required.'}, {'text': 'Explore international policies to manage marine fisheries and end overfishing, with an emphasis on key principles and concepts agreed in the policies, and the challenges they aim to address. Overview of major international policies guiding where and how national governments manage marine fisheries & collaborations to manage shared and high seas fisheries. Policies & key challenges will be illustrated through case studies. Guest experts from United Nations Food and Agriculture will discuss current topics & efforts to implement policies. Principles and concepts underpinning fisheries mgmt. worldwide & major intl. policy instruments to challenges to ending overfishing.'}, {'text': 'Continuation of Hebrew 101. Introduction to speaking, understanding, reading, and writing Modern Hebrew. Prerequisite: Hebrew 101 or equivalent.'}, {'text': 'Nature and acquisition of sex roles. Cross-cultural variations. Developing nature of sex roles in American society.'}, {'text': 'Exploration of issues relevant to teaching in psychology and related disciplines. Focus on a variety of pedagogical issues: course development, teaching strategies, preparation of materials, evaluation, classroom management. Strong emphasis also on ethical issues bearing on pedagogy. Open to undergraduates serving, or scheduled to serve, as teaching assistants in psychology, as well as to graduate students. Instructor consent required.'}, {'text': \"Death, in antiquity as in the present era, sat at the intersection of a wide range of discourses. Medical doctors, for example, sought to avert it, jurists to mitigate its impact upon family relations and the flow of capital, philosophers and theologians to prescribe approaches to it, and bishops and other religious professionals to create rituals by which to assist the departed's transition into the afterlife and to channel the grief of her surviving loved ones. This seminar aims to locate death at the intersection of material and literary culture, liturgical practice and economic impact upon ancient Christian communities.\"}, {'text': 'Neoliberalism is a philosophical framework so intrinsic to contemporary US politics that it can be difficult for Americans to articulate, contemplate, and critique. In this course, we will define neoliberalism, evaluate its role in US politics and society, and discuss alternative social and political worldviews.'}, {'text': 'This two-credit course covers the intermediate Spanish language curriculum (Spanish 203 and 204) in one semester. Builds on the elements of the language acquired in the elementary sequence; enrollment in this course presupposes acquisition of Spanish 101 and 102 contents. Further development of the four language skills: listening, speaking, reading, and writing. Expanding range and sophistication of grammar usage and vocabulary. Exposure to Spanish-speaking cultures. Increasing ability to structure ideas in speaking and writing. Work with comprehension and production of texts of greater extension. Prepares students for 300-level Spanish courses. Four class meetings a week.'}, {'text': 'In this course, you will learn to translate your scholarship into policy-relevant writing and actions. Students must have completed or be in the process of completing an independent research project on a topic related to children, families, or education. You will translate knowledge gained from your independent research project into several products for diverse audiences, including practitioners and policymakers. You will learn to present your academic scholarship in oral, academic, lay-public, and professional forums. Capstone course required for the Child Policy Research certificate program. Consent of Director of that certificate program required.'}, {'text': 'This course is designed for students with 2-3 years of high school Spanish whose level of Spanish places them between Spanish 101 and 102. We review concepts from Spanish 101 at the beginning of the semester before moving on to Spanish 102. The course focuses on basic Spanish structures, functions and vocabulary with the goal of having students interact, problem solve and collaborate in the target language. This course develops the interpersonal, interpretive and presentational communication modes.'}, {'text': 'Selected special topics in innovation and entrepreneurship.'}, {'text': 'Immerses students into real world consulting, exposing them to all aspects of research including data collection, modeling, and evaluating results. Through campus-wide consulting program, students work with researchers from various disciplines providing recommendations for statistical methodologies appropriate for their research. Projects examined through lens of research ethics underlying data collection, model assumptions, analysis, reproducibility, and reporting of results. Case studies such as the recent Potti case highlight what can go wrong in interdisciplinary research when researchers are not vigilant of the highest ethical standards. Prerequisite: Statistical Science 360L or 601.'}, {'text': 'Special topics in Cinematic Arts seminar.'}, {'text': 'The department offers a series of rotating courses, covering the history and historiography of various aspects of North American History.  Written work is confined to methodological, conceptual, or historiographic essays.  Topics vary, as do the instructors.'}, {'text': 'This course focuses on the environmental and organizational context of chronic illness.  Faculty and students will explore competing theoretical perspectives and consider how each would guide an empirical study in a specific research area.  The semester also addresses scholarly skill development including research synthesis authorship, academic integrity, grant writing, and human subjects, issues with vulnerable populations. Department consent required'}, {'text': 'Same in content as Economics 706, but with weekly discussion section.'}, {'text': \"Do you want to design a business model around either your own idea or someone else's problem? In New Ventures Development you'll learn to assess opportunities, develop and test business models, understand your financials, and build successful teams. If you've validated an idea through New Ventures Discovery or through your independent customer discovery process, New Venture Development can facilitate idea to action. In this course, student teams will develop core elements of a strategy for a technology or business idea; detail will be suitable for a business plan document for a company seeking initial investment; strategy will serve as a foundation for a first operating plan for company.\"}, {'text': \"Electrostatic fields and potentials, boundary value problems, magnetic induction, energy in electromagnetic fields, Maxwell's equations, introduction to electromagnetic radiation. Prerequisite: Mathematics 216 or equivalent.\"}, {'text': 'Examines contemporary Chinese media traditional news press, radio and TV, new media such as the internet and social media, and popular culture, including cinema, popular music and fashions. Uses cross-cultural, interdisciplinary, and comparative approach. Focuses on how China views itself and constructs its global images, and how the world views China through media and popular culture. Primary objective is to understand political, ideological, and social changes since the Reform Era that began in 1978. No foreign language prerequisites are required.'}, {'text': 'Prepares pre-service secondary teachers to evaluate, develop, and implement a variety of student assessments, both formative and summative, to improve student learning in a culturally sustaining environment. Examine strategies for data collection, recording, analysis, and interpretation to inform decision-making. Explore current issues, standards, and strategies for integrating educational technology in instruction to support student learning outcomes. Recommended prerequisites: MAT 702, MAT 703.'}, {'text': 'Intermediate level treatment of macroeconomic models, fiscal and monetary policy, inflation, unemployment, economic growth. Prerequisite: Economics 201D.'}, {'text': 'First and second order ordinary differential equations with applications, Laplace transforms, series solutions and qualitative behavior, Fourier series, partial differential equations, boundary value problems, Sturm-Liouville theory. Intended primarily for engineering and science students. Prerequisite: (Mathematics 202, 202D, 212, 219, or 222) and (Mathematics 216, 218-1, 218-2, or 221). Not open to students who have taken Mathematics 356.'}, {'text': \"Death is one of the only completely universal human experiences, yet we resist talking about it in our everyday lives. In this course, we will investigate some of the biggest questions and issues surrounding death. We will first examine the different ways that philosophical and religious traditions have conceived of death and problems that these conceptions may raise. In the second half of our course we will focus on how death affects our actions and choices in life. How does the prospect of impermanence shape the way we live? Are there causes that are worth dying for? How should we prepare for death? Should we use new technologies to extend our lives and 'cheat' death?\"}, {'text': \"The digital age has enhanced human life in many ways: communication is faster, medicine is better, and our knowledge of the world is deeper. But it has also changed the nature of work, society, and our sense of well-being, and raised fundamental questions about the meaning and purpose of human life. This course asks what it means for humans to flourish in a digital age. It considers how new technologies through the centuries have impacted human flourishing, making certain aspects easier and others harder, and perhaps even altering our conception of what flourishing looks like. Our ultimate goal is to ponder together how we should practically live in today's digital age. For sophomores only.\"}, {'text': 'This course will examine poetry written out of the Western Christian tradition. Although the readings will provide something of a historical overview, the emphasis will be on twentieth-century works. By concentrating on literary art of a non-narrative nature, we should be able to focus more keenly on the power of language and the relation between art and theology, truth, and beauty. How do the particular qualities of verse lend themselves to spiritual, theological and philosophical exploration.  Does telling the truth by telling it slant (to paraphrase Emily Dickinson) gain us different truths than those found through prose?'}, {'text': 'Current trademark and unfair competition law inspected from three different viewpoints: theory, case law, and litigation strategy.'}, {'text': 'Permutations and combinations, generating functions, recurrence relations; topics in enumeration theory, including the Principle of Inclusion-Exclusion and Polya Theory; topics in graph theory, including trees, circuits, and matrix representations; applications.  Prerequisite: Mathematics 122, 112L, 122L or consent of instructor.'}, {'text': \"This course will investigate how data can be used to directly impact business decisions. The volume, variety, and velocity associated with currently available data motivate an important paradigm for data-driven decision-making in business. Beyond extracting information from data, and creating data-driven, real-time autonomous decision making systems, the data itself should be thought of as an asset for current and future use. In this course, we will study the core ideas behind data mining, challenges associated with big data, and the interplay between data science and business decisions. We will focus on (1) general principles that are long lasting despite the rapidly changing technology; (2) specific algorithms/technologies that are currently being used in many industries; and (3) 'hands-on' analyses of actual datasets to develop methodologies. Ultimately, the course aims to develop 'data-analytic' thinking. This should enable you to evaluate how data can improve performance, identify opportunities, and assist in decision making for managers. The understanding of the principles of data mining techniques will allow you to interact effectively with experts/consultants, and to quickly conduct pilot studies. This course is for MQM: Business Analytics students.\"}, {'text': 'Marine Lab version of Environment 393. Taught in Beaufort at Duke Marine Lab.'}, {'text': 'Concepts and processes of corporate finance; functions, technology and techniques of financial management. Topics include analysis of financial statements, ratio analysis and the statement of cash flows; capital budgeting; risk and return; stocks and bonds; cost of capital; financial institutions; securities markets and international finance. Not open to first year students.'}, {'text': 'Introduction to the sources and impacts of pollution in marine and freshwater environments. Examination of biological pollutants, such as pathogens and invasive species; chemical pollutants, such as nutrient loading, oil spills, pesticides, and heavy metals; and physical pollutants, such as plastics and thermal perturbations. Principles of aquatic biogeochemistry, primary production, and food webs applied to ocean and freshwater pollution.'}, {'text': 'Individual research in a field of special interest under the supervision of a faculty member, the central goal of which is a substantive paper or written report containing significant analysis and interpretation of a previously approved topic. Consent of instructor required.'}, {'text': \"Meeting on select Wednesdays across Spring 1 and Spring 2 terms, the EDGE Seminar on Energy & Environment gives students a unique opportunity to learn about today's most important energy and environment industry issues directly from senior business executives. Students have a chance to engage in candid conversations in a small-group setting with influential industry leaders. The seminars are designed to present a variety of energy and environment perspectives and cover topics ranging from global energy market economics and finance, to corporate sustainability, energy system transformation, and clean-tech commercialization and entrepreneurship. Seminar speakers vary by semester. This course is for Daytime MBA and Accelerated Daytime MBA students.\"}, {'text': \"Build a foundation in R and Python to prepare for subsequent courses in student's program that use these languages. This course is for MSQM: Health Analytics students.\"}, {'text': 'Historical roles of nature�as a cultural construct and a set of biological relationships�in shaping human choices in North America, from colonial times to the present. Special attention to historical origins of contemporary environmental politics, including the origins of wilderness; environmental justice movements; the changing politics of food, animal rights, and pollution; and tragedies of the commons, and the ethical challenges posed by global warming and population growth.'}, {'text': 'Christian preaching relates the biblical text to the congregational context. This class engages in sociological and theological analysis of the context of preaching, enables students to grow in their preaching abilities through self-critique, reflection on preaching, and conversation with current homiletical literature.'}, {'text': 'Introduction to Athenian Drama. The course will feature additional work commensurate with the difference in expectations between undergraduate and graduate classes. This could involve additional reading, additional or differently scoped exam/quiz opportunities or assignments, additional out-of-class meetings, or the like, as consistent with the goals of the class. Prerequisite: Greek 653.'}, {'text': \"Reading and writing intensive seminar focused on documentary works that document and discuss US politics and political movements. Engage and analyze historical and contemporary documentary media on the Populist movement, the long civil rights movement, the modern women's movement, Black Lives Matter, Moral Mondays, and other social movements, as well as US elections and significant figures in US politics. Emphasis on 20th century. Course materials include historical writings, journalism, memoir, fiction, music, and film. Guided research on a US political phenomenon resulting in a 20-page final paper.\"}, {'text': 'Special individual readings in a specified area of study in computer science. Approval of Director of Graduate Studies required.'}, {'text': 'Readings in environment, political ecology, and the socio-cultural/political economic construction of space. Rather than the neutral backdrop to human life, space, place, and environment are crucial components to our material and symbolic worlds. This course overviews geographical thought and theory and then explores its use in anthropology and other social scientific disciplines. Authors include: Lefebvre, Harvey, Massey, etc.'}, {'text': \"Strategic financial issues confronting the firm. Basic problems of strategic direction for the firm with respect to external competitive environment and management of internal strategy processes. Tools and ideas to manage formulation and implementation of strategic choices for the firm. Study of firm's strategic position relative to rivals, the larger industry, and the customer. Prerequisite: Markets and Management Studies 85 and Economics 271 or Economics 373 or consent of instructor.\"}, {'text': 'Individual non-research directed study on a previously approved topic under the supervision of a faculty member and resulting in a significant product that promotes understanding or application of psychological science. Junior year fall. Department consent required.'}, {'text': 'This course provides an overview of the global health sector to help create a context for other health sector management courses and to form the foundation for overall discussions of health management. It will address current business and policy challenges in health sector management. The course addresses key challenges in the value chain by which people and organizations around the world create, deliver, and consume healthcare goods and services. This course is for Global Executive MBA and Weekend Executive MBA students.'}, {'text': 'The course is designed as a refresher course to increase assessment skills and diagnostic reasoning appropriate for advanced clinical practice. Provider-patient interaction, patient data collection, and oral and written presentations are emphasized. Attention is given to development of an extensive set of assessment skills which will allow the learner to differentiate the normal anatomy and physiology variations. Prerequisite: Completion of a physical assessment course within 2 years prior to course enrollment. Prerequisite: Nursing 589 or 591'}, {'text': 'Software is critical in many medical devices, including device control, feedback and signal processing. This course focuses on software development skills that are ubiquitous in the medical device industry, including software version control, unit testing, fault tolerance, continuous integration testing and documentation. Experience will be gained in Python and JavaScript. The course will be structured around a project, done in small student groups, to build an Internet-connected medical device that measures and processes a biosignal, sends it to a web server, and makes those data accessible to a web client/mobile application. Prerequisite: Biomedical Engineering 271, Biomedical Engineering 271A, or graduate student standing.'}, {'text': 'Introductory course on theoretical neuroscience. Neuronal biophysics: ions, membranes, channels. Single neuron models: Hodgkin-Huxley, 2D reductions, phase plane analysis. Leaky integrate-and-fire model, response to stochastic inputs. Models of synapses and synaptic plasticity. Models of networks at various scales. Network dynamics: rate models, networks of spiking neurons. Coding and decoding by single neurons and populations of neurons. Unsupervised learning, supervised learning, reinforcement learning. Adequate for any graduate student in physics or other quantitative fields (mathematics, statistics, engineering, computer science) and undergraduate majors in such fields.'}, {'text': 'Linear elasticity will be emphasized including concepts of stress and strain as second order tensors, equilibrium at the boundary and within the body, and compatibility of strains. Generalized solutions to two and three dimensional problems will be derived and applied to classical problems including torsion of noncircular sections, bending of curved beams, stress concentrations and contact problems. Applications of elasticity solutions to contemporary problem in civil and biomedical engineering will be discussed. Prerequisites:  Engineering 201L; Mathematics 353.'}, {'text': 'Democracy Lab will involve students in the practice of revitalizing our democracy, on campus, in Durham, and in our nation. Lab-based model will allow students to experiment with solutions, working together in teams to create innovative projects addressing political issues. Course will include instruction on history and reflective writing as well as theories of innovation and leadership. Work will largely consist of client-based projects in which teams will produce a substantial report or the equivalent activity that contributes to the health of political processes. Course offered through the Hart Leadership Program.'}, {'text': 'Interdisciplinary teams of students from engineering, medical science, business, and medicine work together to understand and evaluate the commercial potential of Duke faculty research innovations and develop a comprehensive research translation and business plan for one chosen opportunity.  Learning includes understanding technology, product development, marketing, finance, regulatory requirements, and reimbursement.  In addition to weekly lectures, students are mentored in this real world experience by a team including technology transfer experts, venture capitalists, researchers, physicians, and entrepreneurs.  Prerequisites: none.  Consent of instructor required.'}, {'text': 'Great cathedrals of Europe in England, Germany, and Italy, with a special focus on France, from roughly 1140 to 1270, and their construction, financing, and role in the fabric of medieval city life. The urban context of each city, the history of the site and its relics, and the artistic and technological developments that made the construction of these complex and large-scale structures possible. A consideration of Romanesque precedents and the origins of the various structural elements of Gothic architecture.'}, {'text': 'Chemistry of the noncovalent interactions governing biological systems. Topics include: review of biomacromolecules; chemical principles of non-covalent interactions and the use of model systems; experimental methods to determine binding interactions; interactions responsible for molecular recognition in biological systems; and applications in signal regulation. Recommended precursor to Chemistry 518.'}, {'text': 'Theory and practice of the process of adaptation of serious literary works of fiction to screenplay or play form. Reading and analysis of literary works adapted as screenplays and plays. Project in writing an adaptation.'}, {'text': \"Second semester of elementary Haitian Creole provides essential elements of Creole language and aspects of Haitian culture. Students develop speaking, listening, reading, and writing skills and are exposed to different aspects of Haitian culture through films, storytelling, games, music, and proverbs. Pre-requisite: Creole 701 or a comparable level of previous Creole language experience, such as Duke Engage experience in Haiti or familial background in Creole. Language instruction is complemented through additional class meetings and submission of a paper in Creole on aspects of students' Haiti-related research. Taught in Creole.\"}, {'text': \"Integration and practice course to accompany What Now? full-credit seminars. Provides a space for synthesis of seminar-specific learning with program-wide facilitated conversations, community building, and activities. Course content will include regular weekly reflections and an integrative semester capstone project identifying key insights on individual students' semester experiences and deliberative next steps through Duke.\"}, {'text': 'This course will analyze the history of the genocide of the European Jews, and its connection to antisemitic art and cultural policy during the Nazi period. With a sound understanding of the development of oppressive policies against the Jews, and looking at a variety of media (painting, architecture, film, photography, design), the course will explore the complicated relationship between developing racist policies and the world war as they impacted and were in turn influenced by artists. Examines not only artists involved in the Nazi state, but also those who resisted in exile or were its victims.'}, {'text': 'Supervised reading in a field of special interest under the sponsorship of a faculty member. Requires a substantive paper containing significant analysis and interpretation. Consent of instructor and director of undergraduate studies required.'}, {'text': 'Reading and writing about the important works of 20th and 21st century Russian literature with intensive textual analysis and discussion of cultural relevance of the discourse of totalitarian regimes, including prose (short stories, one novel), poetry and essays. Authors include Kharms, Shalamov, Vodolaskin. Writing component will develop expository prose style and rhetorical strategies. Taught in Russian. Recommended prerequisite: Russian 707 and 708, or consent of instructor.'}, {'text': \"Examines social history of major racial groups in the US and relationships to contemporary standing. Discusses central concepts sociologists use to analyze racial matters. Central theme: 'racism' is not mere 'prejudice,' 'ignorance,' or 'intolerance,' but a comprehensive historical system of racial domination organized around the logic of white supremacy. Discussion of 'whiteness' in the USA�how whiteness emerged as a social category, an identity based on experiences of variety of European 'peoples;' how it dominated the racial structure of the US since the 17th century, how wealth has been distributed along racial lines, racialization of Asians and Latinos, and color blind racism.\"}, {'text': 'Individual research in the field of Population Health Sciences, under the supervision of a faculty member, the major product of which is a substantive paper containing analysis and interpretation of a previously approved topic. Requires approval of the Director of Graduate Studies.'}, {'text': \"Engages students in the practices, politics, and theories of conducting original archival research and knowledge productions. Hands-on research in the archives of Duke's Rubenstein Special Collections and elsewhere. Examines histories and theories of movements and encounters between the 'West' and 'Asia.' Teaches research methods through guided excavations in both digital and material resources. Directed readings of histories and theories and special guest lectures guide students on how to think critically on the theories and praxis of knowledge production, collection, circulation, and consumption. Students curate digital humanities projects based on original research.\"}, {'text': \"Operations management involves planning and controlling the processes used to produce the goods and services provided by an organization.  In essence, it is the management of all activities related to doing the actual work of the organization.  Managing these processes can be quite challenging - they are often very complex, and can involve large numbers of people and facilities, huge volumes of materials and great distance.  Objectives of the course are to: i) Introduce students to the functional area of operations and to increase their awareness of how a firm's operations interface with the other functional areas of the organization, ii) Familiarize students with the various issues and problems that traditionally arise in the management of operations within both manufacturing and service organizations, iii) Acquaint students with some of the terminology, modeling, and methodologies that often arise in the handling and resolution of operations issues and problem.\"}, {'text': \"Combines a historical survey of science-themed plays with an examination of sci+arts initiatives such as the University of Western Australia's Symbiotica; the Art & Science Laboratory in New Mexico; and the UK's Centre for Performance Science. Central course questions: How can performing arts improve public awareness and knowledge about complex scientific ideas and research? What points of view and methods of research do artists bring to scientific inquiry and vice-versa? We will pay particular attention to secondary schools, contemporary art installations, and science museums as public laboratories for experimental, embodied collaborations across the two disciplines. Open only to students in the Focus Program. Department consent required.\"}, {'text': 'Principles of securing the creation, storage, and transmission of data and ensuring its integrity, confidentiality, and availability. Topics include access control and authentication in distributed systems; cryptography and cryptographic protocols (mainly key exchange protocols); user authentication; software vulnerabilities and software engineering to reduce vulnerabilities; firewalls and related technologies; technologies to support online privacy; and selected advanced topics. Prerequisite: Computer Science 201 and 230 and (210 or 250).'}, {'text': 'Lab component for Physics 142L.'}, {'text': 'The course is designed to combine traditional lectures and clinical physics practicum on the topic of LDR (low dose rate) and HDR (high dose rate) brachytherapy. Instructor consent required. Prerequisite: Medical Physics 520.'}, {'text': 'Principles, practices, and problems in secondary school instruction, including a focus on values and ethics in teaching. Consent of instructor required.'}, {'text': 'This culminating clinical course focuses on the synthesis of theory and clinical management skills to manage the care of pediatric patients.  It also assists students to implement the Acute Care Pediatric nurse practitioner role in a collaborative model of practice. Prerequisite: Nursing 628 and 663'}, {'text': 'Introduction to non-relativistic quantum mechanics. Topics include experimental foundations, wave-particle duality, Schroedinger equation, wave function interpretation, the state vector, Hilbert space, Dirac notation, Heisenberg uncertainty principle, one-dimensional quantum problems, tunneling, the harmonic oscillator, three-dimensional quantum problems, angular momentum, the hydrogen atom, spin, angular momentum addition, identical particles, elementary perturbation theory, fine/hyperfine structure of hydrogen, dynamics of two-level systems, and applications. An assignment will ask the student to relate this course to their research. Department consent required.'}, {'text': 'Propagation, reflection, refraction, and diffraction of acoustic waves in biologic media. Topics include geometric optics, physical optics, attenuation, and image quality parameters such as signal-to-noise ratio, dynamic range, and resolution. Emphasis is placed on the design and analysis of medical ultrasound imaging systems. Prerequisites: Biomedical Engineering 303; Engineering 103L; or instructor consent.'}, {'text': \"Student gains practical experience by taking an internship in industry, and writes a report about this experience. Requires prior consent from the student's advisor and from the director of graduate studies. May be repeated with consent of the advisor and the director of graduate studies. Credit/no credit grading only.\"}, {'text': 'This course is the first of a two-semester sequence that provides an overview of computing and data analysis concepts and tools that are frequently used throughout the biological sciences. Topics covered include data filtering and restructuring; data visualization and effective communication; data science best practices for reproducibility, reusability, and discovery; and working effectively with big data. Students will learn how to leverage key tools from the Unix, R, and Python computing ecosystems.'}, {'text': 'Seminar on a selected topic.  Offerings vary each semester.'}, {'text': 'Focus on present-day and historical documentary traditions in American South, with an emphasis on call and response between black and white cultures. The arts and humanities as embedded in particular histories and cultures found in the South, and as performed in music and theater; and portrayed in documentary films, civil rights photography, Southern literature, and historical and autobiographical writing. Includes historical texts, oral histories and testimonies of living persons, along with documentary films, photographs, and writings from people in Durham and elsewhere in the region.'}, {'text': \"One story of the relationship between human rights and conflict is told in the Preamble to the UN Charter: the human rights framework of our age came about because of the 20th century's two world wars. But for the 'untold sorrow' brought about by these conflicts, so the story goes, there would have been no effective demand for and no construction of a set of legal, political and ethical norms intended to help 'save succeeding generations from the scourge of war'. In this course we will examine the link between human rights and conflict in an interdisciplinary fashion. What are the multiple ways in which the law and political advocacy of human rights relate to conflict? Do demands for human rights precipitate or fuel as much as prevent-conflicts, whether as war or in other forms of large scale suffering? Are human rights essential for what the field of conflict resolution has termed 'positive peace'? Should policymakers involved in multiple stages of conflict, both inter-and intrastate, be more cautious about viewing rights as a remedy for conflicts? What are relevant ethical considerations? With the benefit of greater analytical and contextual understanding of competing priorities and tradeoffs, what positive role might be cast for human rights in the conflicts of the 21st century? To consider these and other questions, we will draw substantially on historical and policy analyses, learning the legal/political history of the contemporary framework for human rights and connecting it to real world efforts underway by lawyers and other practitioners to reframe and transform conflict and build peace. Consent required by instructor.\"}, {'text': \"In this course, students bring together interdisciplinary insights from their work throughout the Innovation & Entrepreneurship Certificate program to shed light on innovation and entrepreneurship and the roles they play in addressing the world's most pressing problems. The class will incorporate rich discussion, selected readings, and guest speakers addressing topics in innovation and entrepreneurship. Students will focus on applying what they have learned through the certificate curriculum to develop an innovation and entrepreneurship capstone project. Director of undergraduate studies consent required.\"}, {'text': 'Hands-on experience with 16mm motion picture film and photography. In-depth exploration of the techniques and aesthetics of film production, including basic screen writing, lighting, story telling, and editing. Each student will produce an individual 16mm film. Same as Visual and Media Studies 362S but with additional graduate level work.'}, {'text': 'The course discovers and draws inspiration from different types of game changers in a variety of fields and disciplines�from politics and policy to business/marketing/finance, environment and social movement. Investigations are pursued on how out-of-box thinking has brought creativity to problem solving and changed the ways people live, connect, and contribute around the world. The relevant factors that have helped successfully implement the core ideas as well as the blunders that pioneers have encountered are examined.'}, {'text': \"Continuation of Movement Research I. The opportunity to work in a multitude of ways with regard to movement and studio practice and to develop an individual approach that serves the student's artistic trajectory. Course includes two intensive workshops on weekends during the semester and an individual movement research plan designed by the student in consultation with their faculty supervisor. The plan may include personal studio time and/or access to movement courses taught in the Dance Program. Reflection paper on their work and discoveries during the semester. Participation in the weekly movement research lab is strongly encouraged.\"}, {'text': 'See GSF 493. Open to seniors. Consent of instructor and program director required.'}, {'text': 'This is a semester-long course in international trade. The objective of the course is to introduce students to current research topics on international trade as well as the tools and methodologies that are prevalent in the field.'}, {'text': 'Theory, principles, and procedures of ship navigation, movements, and employment. Dead reckoning, piloting, celestial and electronic principles of navigation. Corequisite: Naval Science 353L.'}, {'text': 'Course examines experiences of participants in World War I, known as the Great War: why did they go to war willingly at first, and how did they come to terms with its absurdity and horror? Examines what the war means to us,100 years later. Read letters, poetry, novels and memoirs and see films made by participants in the war and from later eras. Serves as an introduction to historical research and writing. Includes a variety of research and writing tasks, both formal and informal, which enable students to engage with the work of others and articulate a position with regard to historical interpretations.'}, {'text': 'Surveys history of various forms of capitalism in the United States, with focus on changing labor systems and labor relations, banking and finance, business enterprise and strategies, agriculture, government economic policy (including regulatory policy), and intellectual history of capitalism and its reformers.'}, {'text': \"Provides a conceptual framework for understanding the macroeconomic forces that shape business decisions. Topics covered include the determinants of long-run growth of developing and advanced economies, the allocation of capital across the globe, causes for speculative attacks on currencies, and an understanding of a country's international financial policy in dealing with various real and financial crises. Particular attention is paid to understanding a variety of current global issues that are important for firms. This course is for Daytime MBA and Accelerated Daytime MBA students.\"}, {'text': 'The course objective is to deliver the theory and the quantitative tools that are necessary for global asset management. The focus of the course is on tactical rather than passive asset management. To this end, we develop the fundamental concepts of asset valuation in a world with time-varying risk and risk premiums. We also focus on the most recent advances in quantitative forecasting methods. A unique feature of this course is that students build their own asset management software. In addition, using some of the techniques in the course, they perform an out-of-sample asset allocation. The most recent data (from DATASTREAM) is used in this real-time allocation. This course is for Daytime MBA and Accelerated Daytime MBA students.'}, {'text': 'One-week course to introduce the Master of Engineering Management Program. Residency 1 includes an orientation to Duke and the program, business simulations, case studies, professional development workshops and alumni engagement opportunities. Prerequisite: enrollment in the Master of Engineering Management Online Program.'}, {'text': 'Advanced grammar review with an emphasis on the refinement of oral and written language skills. Development of writing style through compositions and essays.  Prerequisite: Russian 706 or consent of instructor.'}, {'text': \"Health Services Research provides an overview of methods for undertaking research and program evaluation within health services organizations and systems. In addition to methods, the course also provides 'the state of the art' in research and evaluation through the review of major completed studies. This course is recommended for students who will be carrying out policy research, social science research, or program impact evaluation within health delivery systems as well as developing and implementing programs to improve healthcare outcomes.\"}, {'text': 'Individual research in a field of special interest under the supervision of a faculty member, the central goal of which is a substantive paper or project containing significant analysis and interpretation of a previously approved topic. Open only to qualified juniors and seniors; for seniors, the paper or project may partially fulfill the requirements for graduation with distinction. Consent of instructor and director of undergraduate studies required.'}, {'text': 'Development of advanced proficiency in oral and written communication. Expansion and deepening of cultural literacy and interpretive skills by focusing on issues of social, cultural, and political significance in German-speaking countries. Cultural and literary texts from a variety of media and genres analyzed in social and cultural contexts. Intensive work on vocabulary, sentence structure, and patterns of expression. Prerequisite: German 204 or equivalent. Not open to native speakers of German.'}, {'text': 'Examines behavioral science theories (individual, group, and organizational) in a small group learning environment to build healthy classroom discourse. The student will be exposed to the professional challenges and competencies that are needed for effective execution of the profession of arms through the examination of history, psychology, leadership/management theories, decision sciences, and military doctrine. Through this course, the student will examine military ethics, ethical decision making, Geneva Convention rules, and NATO rules of engagement. Instructor consent required.'}, {'text': 'Introductory survey course on nuclear and particle physics. Phenomenology and experimental foundations of nuclear and particle physics; fundamental forces and particles, composites. Interaction of particles with matter and detectors.  SU(2), SU(3), models of mesons and baryons. Weak interactions and neutrino physics.  Lepton-nucleon scattering, form factors and structure functions. QCD, gluon field and color.  W and Z fields, electro-weak unification, the CKM matrix, Nucleon-nucleon interactions, properties of nuclei, single and collective particle models. Electromagnetic and hadronic interactions with nuclei. Nuclear reactions and nuclear structure, nuclear astrophysics. Relativistic heavy ion collisions. Prerequisite: for undergraduates, Physics 464, 465; for graduate students, Physics 764, which may be taken concurrently.'}, {'text': 'Students learn core ECE concepts, providing a foundation on which subsequent courses build. Concepts include techniques for analyzing linear circuits, semiconductor and photonic devices, frequency representation, filtering, combinational and sequential logic. Central to the course is an extensive design challenge that requires students to integrate knowledge across topics while honing practical design and project management skills. Course culminates in an exciting competition in which teams of robots race to overcome challenging obstacles using sensor data acquisition and processing. Prerequisite/corequisite: (Engineering 103L or Computer Science 201) and (Mathematics 112L or 22 or equivalent).'}, {'text': 'Semester-long individual documentary project using one or more documentary mediums, including photography, film/video, audio, and long form writing, or a blend of the above, with Durham and the Piedmont of North Carolina as our suggested focus. Experimentation with collaborative approaches to documentary fieldwork as well as individually driven work in documentary art. Requires final documentary project expressing cultural and political realities through a personal point of view.'}, {'text': 'Graduated, guided instruction in the clinical management of patients receiving various types of anesthesia. Selected topics, journal articles, and case reports are presented, critically analyzed, and discussed by presenters and participants at a clinical and literature review conference. Students must complete seven rotations to meet degree requirements'}, {'text': 'Second-year students enroll in this course with their primary committee advisor to complete their thesis actions and written documentation of movement-based research. Ongoing faculty feedback on creative work and student writing. Student drafts and submits written thesis describing the historical influences, theoretical frameworks, and cultural values that inform their research and detailed descriptions of their creative methodologies and evaluates the outcomes of their thesis design and practical implementation. Open to second-year students with approved Thesis Proposals. Instructor permission required.'}, {'text': 'Same as Music 281S, in tutorial format. Composing original music in smaller forms for voice, piano, and other instruments. Studies in compositional techniques. Prerequisites: Music 261 and 361 or consent of instructor. Not open to students who have taken Music 281S.'}, {'text': 'Exploration of different conceptions of culture and the importance of employing cultural lenses to examine the process of education. Investigation, in particular, of the impact of culture and issues of race, class and gender in American schools.'}]\n",
            "[[ 0.04466943  0.04370186 -0.06938929 ...  0.0022108  -0.06261738\n",
            "  -0.077895  ]\n",
            " [-0.02445399 -0.02294218 -0.00187739 ...  0.00155855  0.01722492\n",
            "  -0.01710634]\n",
            " [-0.02014741 -0.02532053 -0.05601073 ...  0.06616416  0.07399747\n",
            "   0.00751472]\n",
            " ...\n",
            " [ 0.04305893 -0.01904894 -0.00623646 ...  0.09028324 -0.07223213\n",
            "   0.00306506]\n",
            " [-0.01622077 -0.11644594  0.00686223 ...  0.09063113  0.05884174\n",
            "  -0.05743752]\n",
            " [ 0.07816952  0.09603672 -0.06997658 ...  0.10982365  0.04254394\n",
            "  -0.01529458]]\n"
          ]
        },
        {
          "name": "stderr",
          "output_type": "stream",
          "text": [
            "\n"
          ]
        },
        {
          "ename": "ApiValueError",
          "evalue": "Unable to prepare type ndarray for serialization",
          "output_type": "error",
          "traceback": [
            "\u001b[0;31m---------------------------------------------------------------------------\u001b[0m",
            "\u001b[0;31mApiValueError\u001b[0m                             Traceback (most recent call last)",
            "\u001b[1;32m/Users/danielmedina/Documents/Duke/create-lab/course-data-eda/semantic-search copy.ipynb Cell 25\u001b[0m line \u001b[0;36m2\n\u001b[1;32m     <a href='vscode-notebook-cell:/Users/danielmedina/Documents/Duke/create-lab/course-data-eda/semantic-search%20copy.ipynb#X34sZmlsZQ%3D%3D?line=19'>20</a>\u001b[0m     records \u001b[39m=\u001b[39m \u001b[39mzip\u001b[39m(ids, xc, metadatas)\n\u001b[1;32m     <a href='vscode-notebook-cell:/Users/danielmedina/Documents/Duke/create-lab/course-data-eda/semantic-search%20copy.ipynb#X34sZmlsZQ%3D%3D?line=20'>21</a>\u001b[0m     \u001b[39m# upsert to Pinecone\u001b[39;00m\n\u001b[0;32m---> <a href='vscode-notebook-cell:/Users/danielmedina/Documents/Duke/create-lab/course-data-eda/semantic-search%20copy.ipynb#X34sZmlsZQ%3D%3D?line=21'>22</a>\u001b[0m     index\u001b[39m.\u001b[39;49mupsert(vectors\u001b[39m=\u001b[39;49mrecords)\n\u001b[1;32m     <a href='vscode-notebook-cell:/Users/danielmedina/Documents/Duke/create-lab/course-data-eda/semantic-search%20copy.ipynb#X34sZmlsZQ%3D%3D?line=23'>24</a>\u001b[0m \u001b[39m# check number of records in the index\u001b[39;00m\n\u001b[1;32m     <a href='vscode-notebook-cell:/Users/danielmedina/Documents/Duke/create-lab/course-data-eda/semantic-search%20copy.ipynb#X34sZmlsZQ%3D%3D?line=24'>25</a>\u001b[0m index\u001b[39m.\u001b[39mdescribe_index_stats()\n",
            "File \u001b[0;32m~/Documents/Duke/create-lab/course-data-eda/env/lib/python3.11/site-packages/pinecone/core/utils/error_handling.py:17\u001b[0m, in \u001b[0;36mvalidate_and_convert_errors.<locals>.inner_func\u001b[0;34m(*args, **kwargs)\u001b[0m\n\u001b[1;32m     15\u001b[0m Config\u001b[39m.\u001b[39mvalidate()  \u001b[39m# raises exceptions in case of invalid config\u001b[39;00m\n\u001b[1;32m     16\u001b[0m \u001b[39mtry\u001b[39;00m:\n\u001b[0;32m---> 17\u001b[0m     \u001b[39mreturn\u001b[39;00m func(\u001b[39m*\u001b[39;49margs, \u001b[39m*\u001b[39;49m\u001b[39m*\u001b[39;49mkwargs)\n\u001b[1;32m     18\u001b[0m \u001b[39mexcept\u001b[39;00m MaxRetryError \u001b[39mas\u001b[39;00m e:\n\u001b[1;32m     19\u001b[0m     \u001b[39mif\u001b[39;00m \u001b[39misinstance\u001b[39m(e\u001b[39m.\u001b[39mreason, ProtocolError):\n",
            "File \u001b[0;32m~/Documents/Duke/create-lab/course-data-eda/env/lib/python3.11/site-packages/pinecone/index.py:147\u001b[0m, in \u001b[0;36mIndex.upsert\u001b[0;34m(self, vectors, namespace, batch_size, show_progress, **kwargs)\u001b[0m\n\u001b[1;32m    142\u001b[0m     \u001b[39mraise\u001b[39;00m \u001b[39mValueError\u001b[39;00m(\u001b[39m'\u001b[39m\u001b[39masync_req is not supported when batch_size is provided.\u001b[39m\u001b[39m'\u001b[39m\n\u001b[1;32m    143\u001b[0m                      \u001b[39m'\u001b[39m\u001b[39mTo upsert in parallel, please follow: \u001b[39m\u001b[39m'\u001b[39m\n\u001b[1;32m    144\u001b[0m                      \u001b[39m'\u001b[39m\u001b[39mhttps://docs.pinecone.io/docs/insert-data#sending-upserts-in-parallel\u001b[39m\u001b[39m'\u001b[39m)\n\u001b[1;32m    146\u001b[0m \u001b[39mif\u001b[39;00m batch_size \u001b[39mis\u001b[39;00m \u001b[39mNone\u001b[39;00m:\n\u001b[0;32m--> 147\u001b[0m     \u001b[39mreturn\u001b[39;00m \u001b[39mself\u001b[39;49m\u001b[39m.\u001b[39;49m_upsert_batch(vectors, namespace, _check_type, \u001b[39m*\u001b[39;49m\u001b[39m*\u001b[39;49mkwargs)\n\u001b[1;32m    149\u001b[0m \u001b[39mif\u001b[39;00m \u001b[39mnot\u001b[39;00m \u001b[39misinstance\u001b[39m(batch_size, \u001b[39mint\u001b[39m) \u001b[39mor\u001b[39;00m batch_size \u001b[39m<\u001b[39m\u001b[39m=\u001b[39m \u001b[39m0\u001b[39m:\n\u001b[1;32m    150\u001b[0m     \u001b[39mraise\u001b[39;00m \u001b[39mValueError\u001b[39;00m(\u001b[39m'\u001b[39m\u001b[39mbatch_size must be a positive integer\u001b[39m\u001b[39m'\u001b[39m)\n",
            "File \u001b[0;32m~/Documents/Duke/create-lab/course-data-eda/env/lib/python3.11/site-packages/pinecone/index.py:231\u001b[0m, in \u001b[0;36mIndex._upsert_batch\u001b[0;34m(self, vectors, namespace, _check_type, **kwargs)\u001b[0m\n\u001b[1;32m    228\u001b[0m         \u001b[39mreturn\u001b[39;00m _dict_to_vector(item)\n\u001b[1;32m    229\u001b[0m     \u001b[39mraise\u001b[39;00m \u001b[39mValueError\u001b[39;00m(\u001b[39mf\u001b[39m\u001b[39m\"\u001b[39m\u001b[39mInvalid vector value passed: cannot interpret type \u001b[39m\u001b[39m{\u001b[39;00m\u001b[39mtype\u001b[39m(item)\u001b[39m}\u001b[39;00m\u001b[39m\"\u001b[39m)\n\u001b[0;32m--> 231\u001b[0m \u001b[39mreturn\u001b[39;00m \u001b[39mself\u001b[39;49m\u001b[39m.\u001b[39;49m_vector_api\u001b[39m.\u001b[39;49mupsert(\n\u001b[1;32m    232\u001b[0m     UpsertRequest(\n\u001b[1;32m    233\u001b[0m         vectors\u001b[39m=\u001b[39;49m\u001b[39mlist\u001b[39;49m(\u001b[39mmap\u001b[39;49m(_vector_transform, vectors)),\n\u001b[1;32m    234\u001b[0m         \u001b[39m*\u001b[39;49m\u001b[39m*\u001b[39;49margs_dict,\n\u001b[1;32m    235\u001b[0m         _check_type\u001b[39m=\u001b[39;49m_check_type,\n\u001b[1;32m    236\u001b[0m         \u001b[39m*\u001b[39;49m\u001b[39m*\u001b[39;49m{k: v \u001b[39mfor\u001b[39;49;00m k, v \u001b[39min\u001b[39;49;00m kwargs\u001b[39m.\u001b[39;49mitems() \u001b[39mif\u001b[39;49;00m k \u001b[39mnot\u001b[39;49;00m \u001b[39min\u001b[39;49;00m _OPENAPI_ENDPOINT_PARAMS}\n\u001b[1;32m    237\u001b[0m     ),\n\u001b[1;32m    238\u001b[0m     \u001b[39m*\u001b[39;49m\u001b[39m*\u001b[39;49m{k: v \u001b[39mfor\u001b[39;49;00m k, v \u001b[39min\u001b[39;49;00m kwargs\u001b[39m.\u001b[39;49mitems() \u001b[39mif\u001b[39;49;00m k \u001b[39min\u001b[39;49;00m _OPENAPI_ENDPOINT_PARAMS}\n\u001b[1;32m    239\u001b[0m )\n",
            "File \u001b[0;32m~/Documents/Duke/create-lab/course-data-eda/env/lib/python3.11/site-packages/pinecone/core/client/api_client.py:776\u001b[0m, in \u001b[0;36mEndpoint.__call__\u001b[0;34m(self, *args, **kwargs)\u001b[0m\n\u001b[1;32m    765\u001b[0m \u001b[39mdef\u001b[39;00m \u001b[39m__call__\u001b[39m(\u001b[39mself\u001b[39m, \u001b[39m*\u001b[39margs, \u001b[39m*\u001b[39m\u001b[39m*\u001b[39mkwargs):\n\u001b[1;32m    766\u001b[0m \u001b[39m    \u001b[39m\u001b[39m\"\"\" This method is invoked when endpoints are called\u001b[39;00m\n\u001b[1;32m    767\u001b[0m \u001b[39m    Example:\u001b[39;00m\n\u001b[1;32m    768\u001b[0m \n\u001b[0;32m   (...)\u001b[0m\n\u001b[1;32m    774\u001b[0m \n\u001b[1;32m    775\u001b[0m \u001b[39m    \"\"\"\u001b[39;00m\n\u001b[0;32m--> 776\u001b[0m     \u001b[39mreturn\u001b[39;00m \u001b[39mself\u001b[39;49m\u001b[39m.\u001b[39;49mcallable(\u001b[39mself\u001b[39;49m, \u001b[39m*\u001b[39;49margs, \u001b[39m*\u001b[39;49m\u001b[39m*\u001b[39;49mkwargs)\n",
            "File \u001b[0;32m~/Documents/Duke/create-lab/course-data-eda/env/lib/python3.11/site-packages/pinecone/core/client/api/vector_operations_api.py:956\u001b[0m, in \u001b[0;36mVectorOperationsApi.__init__.<locals>.__upsert\u001b[0;34m(self, upsert_request, **kwargs)\u001b[0m\n\u001b[1;32m    953\u001b[0m kwargs[\u001b[39m'\u001b[39m\u001b[39m_host_index\u001b[39m\u001b[39m'\u001b[39m] \u001b[39m=\u001b[39m kwargs\u001b[39m.\u001b[39mget(\u001b[39m'\u001b[39m\u001b[39m_host_index\u001b[39m\u001b[39m'\u001b[39m)\n\u001b[1;32m    954\u001b[0m kwargs[\u001b[39m'\u001b[39m\u001b[39mupsert_request\u001b[39m\u001b[39m'\u001b[39m] \u001b[39m=\u001b[39m \\\n\u001b[1;32m    955\u001b[0m     upsert_request\n\u001b[0;32m--> 956\u001b[0m \u001b[39mreturn\u001b[39;00m \u001b[39mself\u001b[39;49m\u001b[39m.\u001b[39;49mcall_with_http_info(\u001b[39m*\u001b[39;49m\u001b[39m*\u001b[39;49mkwargs)\n",
            "File \u001b[0;32m~/Documents/Duke/create-lab/course-data-eda/env/lib/python3.11/site-packages/pinecone/core/client/api_client.py:838\u001b[0m, in \u001b[0;36mEndpoint.call_with_http_info\u001b[0;34m(self, **kwargs)\u001b[0m\n\u001b[1;32m    834\u001b[0m     header_list \u001b[39m=\u001b[39m \u001b[39mself\u001b[39m\u001b[39m.\u001b[39mapi_client\u001b[39m.\u001b[39mselect_header_content_type(\n\u001b[1;32m    835\u001b[0m         content_type_headers_list)\n\u001b[1;32m    836\u001b[0m     params[\u001b[39m'\u001b[39m\u001b[39mheader\u001b[39m\u001b[39m'\u001b[39m][\u001b[39m'\u001b[39m\u001b[39mContent-Type\u001b[39m\u001b[39m'\u001b[39m] \u001b[39m=\u001b[39m header_list\n\u001b[0;32m--> 838\u001b[0m \u001b[39mreturn\u001b[39;00m \u001b[39mself\u001b[39;49m\u001b[39m.\u001b[39;49mapi_client\u001b[39m.\u001b[39;49mcall_api(\n\u001b[1;32m    839\u001b[0m     \u001b[39mself\u001b[39;49m\u001b[39m.\u001b[39;49msettings[\u001b[39m'\u001b[39;49m\u001b[39mendpoint_path\u001b[39;49m\u001b[39m'\u001b[39;49m], \u001b[39mself\u001b[39;49m\u001b[39m.\u001b[39;49msettings[\u001b[39m'\u001b[39;49m\u001b[39mhttp_method\u001b[39;49m\u001b[39m'\u001b[39;49m],\n\u001b[1;32m    840\u001b[0m     params[\u001b[39m'\u001b[39;49m\u001b[39mpath\u001b[39;49m\u001b[39m'\u001b[39;49m],\n\u001b[1;32m    841\u001b[0m     params[\u001b[39m'\u001b[39;49m\u001b[39mquery\u001b[39;49m\u001b[39m'\u001b[39;49m],\n\u001b[1;32m    842\u001b[0m     params[\u001b[39m'\u001b[39;49m\u001b[39mheader\u001b[39;49m\u001b[39m'\u001b[39;49m],\n\u001b[1;32m    843\u001b[0m     body\u001b[39m=\u001b[39;49mparams[\u001b[39m'\u001b[39;49m\u001b[39mbody\u001b[39;49m\u001b[39m'\u001b[39;49m],\n\u001b[1;32m    844\u001b[0m     post_params\u001b[39m=\u001b[39;49mparams[\u001b[39m'\u001b[39;49m\u001b[39mform\u001b[39;49m\u001b[39m'\u001b[39;49m],\n\u001b[1;32m    845\u001b[0m     files\u001b[39m=\u001b[39;49mparams[\u001b[39m'\u001b[39;49m\u001b[39mfile\u001b[39;49m\u001b[39m'\u001b[39;49m],\n\u001b[1;32m    846\u001b[0m     response_type\u001b[39m=\u001b[39;49m\u001b[39mself\u001b[39;49m\u001b[39m.\u001b[39;49msettings[\u001b[39m'\u001b[39;49m\u001b[39mresponse_type\u001b[39;49m\u001b[39m'\u001b[39;49m],\n\u001b[1;32m    847\u001b[0m     auth_settings\u001b[39m=\u001b[39;49m\u001b[39mself\u001b[39;49m\u001b[39m.\u001b[39;49msettings[\u001b[39m'\u001b[39;49m\u001b[39mauth\u001b[39;49m\u001b[39m'\u001b[39;49m],\n\u001b[1;32m    848\u001b[0m     async_req\u001b[39m=\u001b[39;49mkwargs[\u001b[39m'\u001b[39;49m\u001b[39masync_req\u001b[39;49m\u001b[39m'\u001b[39;49m],\n\u001b[1;32m    849\u001b[0m     _check_type\u001b[39m=\u001b[39;49mkwargs[\u001b[39m'\u001b[39;49m\u001b[39m_check_return_type\u001b[39;49m\u001b[39m'\u001b[39;49m],\n\u001b[1;32m    850\u001b[0m     _return_http_data_only\u001b[39m=\u001b[39;49mkwargs[\u001b[39m'\u001b[39;49m\u001b[39m_return_http_data_only\u001b[39;49m\u001b[39m'\u001b[39;49m],\n\u001b[1;32m    851\u001b[0m     _preload_content\u001b[39m=\u001b[39;49mkwargs[\u001b[39m'\u001b[39;49m\u001b[39m_preload_content\u001b[39;49m\u001b[39m'\u001b[39;49m],\n\u001b[1;32m    852\u001b[0m     _request_timeout\u001b[39m=\u001b[39;49mkwargs[\u001b[39m'\u001b[39;49m\u001b[39m_request_timeout\u001b[39;49m\u001b[39m'\u001b[39;49m],\n\u001b[1;32m    853\u001b[0m     _host\u001b[39m=\u001b[39;49m_host,\n\u001b[1;32m    854\u001b[0m     collection_formats\u001b[39m=\u001b[39;49mparams[\u001b[39m'\u001b[39;49m\u001b[39mcollection_format\u001b[39;49m\u001b[39m'\u001b[39;49m])\n",
            "File \u001b[0;32m~/Documents/Duke/create-lab/course-data-eda/env/lib/python3.11/site-packages/pinecone/core/client/api_client.py:413\u001b[0m, in \u001b[0;36mApiClient.call_api\u001b[0;34m(self, resource_path, method, path_params, query_params, header_params, body, post_params, files, response_type, auth_settings, async_req, _return_http_data_only, collection_formats, _preload_content, _request_timeout, _host, _check_type)\u001b[0m\n\u001b[1;32m    359\u001b[0m \u001b[39m\u001b[39m\u001b[39m\"\"\"Makes the HTTP request (synchronous) and returns deserialized data.\u001b[39;00m\n\u001b[1;32m    360\u001b[0m \n\u001b[1;32m    361\u001b[0m \u001b[39mTo make an async_req request, set the async_req parameter.\u001b[39;00m\n\u001b[0;32m   (...)\u001b[0m\n\u001b[1;32m    410\u001b[0m \u001b[39m    then the method will return the response directly.\u001b[39;00m\n\u001b[1;32m    411\u001b[0m \u001b[39m\"\"\"\u001b[39;00m\n\u001b[1;32m    412\u001b[0m \u001b[39mif\u001b[39;00m \u001b[39mnot\u001b[39;00m async_req:\n\u001b[0;32m--> 413\u001b[0m     \u001b[39mreturn\u001b[39;00m \u001b[39mself\u001b[39;49m\u001b[39m.\u001b[39;49m__call_api(resource_path, method,\n\u001b[1;32m    414\u001b[0m                            path_params, query_params, header_params,\n\u001b[1;32m    415\u001b[0m                            body, post_params, files,\n\u001b[1;32m    416\u001b[0m                            response_type, auth_settings,\n\u001b[1;32m    417\u001b[0m                            _return_http_data_only, collection_formats,\n\u001b[1;32m    418\u001b[0m                            _preload_content, _request_timeout, _host,\n\u001b[1;32m    419\u001b[0m                            _check_type)\n\u001b[1;32m    421\u001b[0m \u001b[39mreturn\u001b[39;00m \u001b[39mself\u001b[39m\u001b[39m.\u001b[39mpool\u001b[39m.\u001b[39mapply_async(\u001b[39mself\u001b[39m\u001b[39m.\u001b[39m__call_api, (resource_path,\n\u001b[1;32m    422\u001b[0m                                                method, path_params,\n\u001b[1;32m    423\u001b[0m                                                query_params,\n\u001b[0;32m   (...)\u001b[0m\n\u001b[1;32m    431\u001b[0m                                                _request_timeout,\n\u001b[1;32m    432\u001b[0m                                                _host, _check_type))\n",
            "File \u001b[0;32m~/Documents/Duke/create-lab/course-data-eda/env/lib/python3.11/site-packages/pinecone/core/client/api_client.py:185\u001b[0m, in \u001b[0;36mApiClient.__call_api\u001b[0;34m(self, resource_path, method, path_params, query_params, header_params, body, post_params, files, response_type, auth_settings, _return_http_data_only, collection_formats, _preload_content, _request_timeout, _host, _check_type)\u001b[0m\n\u001b[1;32m    183\u001b[0m \u001b[39m# body\u001b[39;00m\n\u001b[1;32m    184\u001b[0m \u001b[39mif\u001b[39;00m body:\n\u001b[0;32m--> 185\u001b[0m     body \u001b[39m=\u001b[39m \u001b[39mself\u001b[39;49m\u001b[39m.\u001b[39;49msanitize_for_serialization(body)\n\u001b[1;32m    187\u001b[0m \u001b[39m# auth setting\u001b[39;00m\n\u001b[1;32m    188\u001b[0m \u001b[39mself\u001b[39m\u001b[39m.\u001b[39mupdate_params_for_auth(header_params, query_params,\n\u001b[1;32m    189\u001b[0m                             auth_settings, resource_path, method, body)\n",
            "File \u001b[0;32m~/Documents/Duke/create-lab/course-data-eda/env/lib/python3.11/site-packages/pinecone/core/client/api_client.py:277\u001b[0m, in \u001b[0;36mApiClient.sanitize_for_serialization\u001b[0;34m(cls, obj)\u001b[0m\n\u001b[1;32m    264\u001b[0m \u001b[39m\u001b[39m\u001b[39m\"\"\"Prepares data for transmission before it is sent with the rest client\u001b[39;00m\n\u001b[1;32m    265\u001b[0m \u001b[39mIf obj is None, return None.\u001b[39;00m\n\u001b[1;32m    266\u001b[0m \u001b[39mIf obj is str, int, long, float, bool, return directly.\u001b[39;00m\n\u001b[0;32m   (...)\u001b[0m\n\u001b[1;32m    274\u001b[0m \u001b[39m:return: The serialized form of data.\u001b[39;00m\n\u001b[1;32m    275\u001b[0m \u001b[39m\"\"\"\u001b[39;00m\n\u001b[1;32m    276\u001b[0m \u001b[39mif\u001b[39;00m \u001b[39misinstance\u001b[39m(obj, (ModelNormal, ModelComposed)):\n\u001b[0;32m--> 277\u001b[0m     \u001b[39mreturn\u001b[39;00m {\n\u001b[1;32m    278\u001b[0m         key: \u001b[39mcls\u001b[39;49m\u001b[39m.\u001b[39;49msanitize_for_serialization(val) \u001b[39mfor\u001b[39;49;00m key, val \u001b[39min\u001b[39;49;00m model_to_dict(obj, serialize\u001b[39m=\u001b[39;49m\u001b[39mTrue\u001b[39;49;00m)\u001b[39m.\u001b[39;49mitems()\n\u001b[1;32m    279\u001b[0m     }\n\u001b[1;32m    280\u001b[0m \u001b[39melif\u001b[39;00m \u001b[39misinstance\u001b[39m(obj, io\u001b[39m.\u001b[39mIOBase):\n\u001b[1;32m    281\u001b[0m     \u001b[39mreturn\u001b[39;00m \u001b[39mcls\u001b[39m\u001b[39m.\u001b[39mget_file_data_and_close_file(obj)\n",
            "File \u001b[0;32m~/Documents/Duke/create-lab/course-data-eda/env/lib/python3.11/site-packages/pinecone/core/client/api_client.py:278\u001b[0m, in \u001b[0;36m<dictcomp>\u001b[0;34m(.0)\u001b[0m\n\u001b[1;32m    264\u001b[0m \u001b[39m\u001b[39m\u001b[39m\"\"\"Prepares data for transmission before it is sent with the rest client\u001b[39;00m\n\u001b[1;32m    265\u001b[0m \u001b[39mIf obj is None, return None.\u001b[39;00m\n\u001b[1;32m    266\u001b[0m \u001b[39mIf obj is str, int, long, float, bool, return directly.\u001b[39;00m\n\u001b[0;32m   (...)\u001b[0m\n\u001b[1;32m    274\u001b[0m \u001b[39m:return: The serialized form of data.\u001b[39;00m\n\u001b[1;32m    275\u001b[0m \u001b[39m\"\"\"\u001b[39;00m\n\u001b[1;32m    276\u001b[0m \u001b[39mif\u001b[39;00m \u001b[39misinstance\u001b[39m(obj, (ModelNormal, ModelComposed)):\n\u001b[1;32m    277\u001b[0m     \u001b[39mreturn\u001b[39;00m {\n\u001b[0;32m--> 278\u001b[0m         key: \u001b[39mcls\u001b[39;49m\u001b[39m.\u001b[39;49msanitize_for_serialization(val) \u001b[39mfor\u001b[39;00m key, val \u001b[39min\u001b[39;00m model_to_dict(obj, serialize\u001b[39m=\u001b[39m\u001b[39mTrue\u001b[39;00m)\u001b[39m.\u001b[39mitems()\n\u001b[1;32m    279\u001b[0m     }\n\u001b[1;32m    280\u001b[0m \u001b[39melif\u001b[39;00m \u001b[39misinstance\u001b[39m(obj, io\u001b[39m.\u001b[39mIOBase):\n\u001b[1;32m    281\u001b[0m     \u001b[39mreturn\u001b[39;00m \u001b[39mcls\u001b[39m\u001b[39m.\u001b[39mget_file_data_and_close_file(obj)\n",
            "File \u001b[0;32m~/Documents/Duke/create-lab/course-data-eda/env/lib/python3.11/site-packages/pinecone/core/client/api_client.py:289\u001b[0m, in \u001b[0;36mApiClient.sanitize_for_serialization\u001b[0;34m(cls, obj)\u001b[0m\n\u001b[1;32m    287\u001b[0m     \u001b[39mreturn\u001b[39;00m \u001b[39mcls\u001b[39m\u001b[39m.\u001b[39msanitize_for_serialization(obj\u001b[39m.\u001b[39mvalue)\n\u001b[1;32m    288\u001b[0m \u001b[39melif\u001b[39;00m \u001b[39misinstance\u001b[39m(obj, (\u001b[39mlist\u001b[39m, \u001b[39mtuple\u001b[39m)):\n\u001b[0;32m--> 289\u001b[0m     \u001b[39mreturn\u001b[39;00m [\u001b[39mcls\u001b[39;49m\u001b[39m.\u001b[39;49msanitize_for_serialization(item) \u001b[39mfor\u001b[39;49;00m item \u001b[39min\u001b[39;49;00m obj]\n\u001b[1;32m    290\u001b[0m \u001b[39mif\u001b[39;00m \u001b[39misinstance\u001b[39m(obj, \u001b[39mdict\u001b[39m):\n\u001b[1;32m    291\u001b[0m     \u001b[39mreturn\u001b[39;00m {key: \u001b[39mcls\u001b[39m\u001b[39m.\u001b[39msanitize_for_serialization(val) \u001b[39mfor\u001b[39;00m key, val \u001b[39min\u001b[39;00m obj\u001b[39m.\u001b[39mitems()}\n",
            "File \u001b[0;32m~/Documents/Duke/create-lab/course-data-eda/env/lib/python3.11/site-packages/pinecone/core/client/api_client.py:289\u001b[0m, in \u001b[0;36m<listcomp>\u001b[0;34m(.0)\u001b[0m\n\u001b[1;32m    287\u001b[0m     \u001b[39mreturn\u001b[39;00m \u001b[39mcls\u001b[39m\u001b[39m.\u001b[39msanitize_for_serialization(obj\u001b[39m.\u001b[39mvalue)\n\u001b[1;32m    288\u001b[0m \u001b[39melif\u001b[39;00m \u001b[39misinstance\u001b[39m(obj, (\u001b[39mlist\u001b[39m, \u001b[39mtuple\u001b[39m)):\n\u001b[0;32m--> 289\u001b[0m     \u001b[39mreturn\u001b[39;00m [\u001b[39mcls\u001b[39;49m\u001b[39m.\u001b[39;49msanitize_for_serialization(item) \u001b[39mfor\u001b[39;00m item \u001b[39min\u001b[39;00m obj]\n\u001b[1;32m    290\u001b[0m \u001b[39mif\u001b[39;00m \u001b[39misinstance\u001b[39m(obj, \u001b[39mdict\u001b[39m):\n\u001b[1;32m    291\u001b[0m     \u001b[39mreturn\u001b[39;00m {key: \u001b[39mcls\u001b[39m\u001b[39m.\u001b[39msanitize_for_serialization(val) \u001b[39mfor\u001b[39;00m key, val \u001b[39min\u001b[39;00m obj\u001b[39m.\u001b[39mitems()}\n",
            "File \u001b[0;32m~/Documents/Duke/create-lab/course-data-eda/env/lib/python3.11/site-packages/pinecone/core/client/api_client.py:291\u001b[0m, in \u001b[0;36mApiClient.sanitize_for_serialization\u001b[0;34m(cls, obj)\u001b[0m\n\u001b[1;32m    289\u001b[0m     \u001b[39mreturn\u001b[39;00m [\u001b[39mcls\u001b[39m\u001b[39m.\u001b[39msanitize_for_serialization(item) \u001b[39mfor\u001b[39;00m item \u001b[39min\u001b[39;00m obj]\n\u001b[1;32m    290\u001b[0m \u001b[39mif\u001b[39;00m \u001b[39misinstance\u001b[39m(obj, \u001b[39mdict\u001b[39m):\n\u001b[0;32m--> 291\u001b[0m     \u001b[39mreturn\u001b[39;00m {key: \u001b[39mcls\u001b[39;49m\u001b[39m.\u001b[39;49msanitize_for_serialization(val) \u001b[39mfor\u001b[39;49;00m key, val \u001b[39min\u001b[39;49;00m obj\u001b[39m.\u001b[39;49mitems()}\n\u001b[1;32m    292\u001b[0m \u001b[39mraise\u001b[39;00m ApiValueError(\u001b[39m'\u001b[39m\u001b[39mUnable to prepare type \u001b[39m\u001b[39m{}\u001b[39;00m\u001b[39m for serialization\u001b[39m\u001b[39m'\u001b[39m\u001b[39m.\u001b[39mformat(obj\u001b[39m.\u001b[39m\u001b[39m__class__\u001b[39m\u001b[39m.\u001b[39m\u001b[39m__name__\u001b[39m))\n",
            "File \u001b[0;32m~/Documents/Duke/create-lab/course-data-eda/env/lib/python3.11/site-packages/pinecone/core/client/api_client.py:291\u001b[0m, in \u001b[0;36m<dictcomp>\u001b[0;34m(.0)\u001b[0m\n\u001b[1;32m    289\u001b[0m     \u001b[39mreturn\u001b[39;00m [\u001b[39mcls\u001b[39m\u001b[39m.\u001b[39msanitize_for_serialization(item) \u001b[39mfor\u001b[39;00m item \u001b[39min\u001b[39;00m obj]\n\u001b[1;32m    290\u001b[0m \u001b[39mif\u001b[39;00m \u001b[39misinstance\u001b[39m(obj, \u001b[39mdict\u001b[39m):\n\u001b[0;32m--> 291\u001b[0m     \u001b[39mreturn\u001b[39;00m {key: \u001b[39mcls\u001b[39;49m\u001b[39m.\u001b[39;49msanitize_for_serialization(val) \u001b[39mfor\u001b[39;00m key, val \u001b[39min\u001b[39;00m obj\u001b[39m.\u001b[39mitems()}\n\u001b[1;32m    292\u001b[0m \u001b[39mraise\u001b[39;00m ApiValueError(\u001b[39m'\u001b[39m\u001b[39mUnable to prepare type \u001b[39m\u001b[39m{}\u001b[39;00m\u001b[39m for serialization\u001b[39m\u001b[39m'\u001b[39m\u001b[39m.\u001b[39mformat(obj\u001b[39m.\u001b[39m\u001b[39m__class__\u001b[39m\u001b[39m.\u001b[39m\u001b[39m__name__\u001b[39m))\n",
            "File \u001b[0;32m~/Documents/Duke/create-lab/course-data-eda/env/lib/python3.11/site-packages/pinecone/core/client/api_client.py:292\u001b[0m, in \u001b[0;36mApiClient.sanitize_for_serialization\u001b[0;34m(cls, obj)\u001b[0m\n\u001b[1;32m    290\u001b[0m \u001b[39mif\u001b[39;00m \u001b[39misinstance\u001b[39m(obj, \u001b[39mdict\u001b[39m):\n\u001b[1;32m    291\u001b[0m     \u001b[39mreturn\u001b[39;00m {key: \u001b[39mcls\u001b[39m\u001b[39m.\u001b[39msanitize_for_serialization(val) \u001b[39mfor\u001b[39;00m key, val \u001b[39min\u001b[39;00m obj\u001b[39m.\u001b[39mitems()}\n\u001b[0;32m--> 292\u001b[0m \u001b[39mraise\u001b[39;00m ApiValueError(\u001b[39m'\u001b[39m\u001b[39mUnable to prepare type \u001b[39m\u001b[39m{}\u001b[39;00m\u001b[39m for serialization\u001b[39m\u001b[39m'\u001b[39m\u001b[39m.\u001b[39mformat(obj\u001b[39m.\u001b[39m\u001b[39m__class__\u001b[39m\u001b[39m.\u001b[39m\u001b[39m__name__\u001b[39m))\n",
            "\u001b[0;31mApiValueError\u001b[0m: Unable to prepare type ndarray for serialization"
          ]
        }
      ],
      "source": [
        "from tqdm.auto import tqdm\n",
        "\n",
        "batch_size = 128\n",
        "vector_limit = 100000\n",
        "\n",
        "descriptions = descriptions[:vector_limit]\n",
        "\n",
        "for i in tqdm(range(0, len(descriptions), batch_size)):\n",
        "    # find end of batch\n",
        "    i_end = min(i+batch_size, len(descriptions))\n",
        "    # create IDs batch\n",
        "    ids = [str(x) for x in range(i, i_end)]\n",
        "    # create metadata batch\n",
        "    metadatas = [{'text': text} for text in descriptions[i:i_end]]\n",
        "    # create embeddings\n",
        "    xc = model.encode(descriptions[i:i_end])\n",
        "    print(metadatas)\n",
        "    print(xc)\n",
        "    # create records list for upsert\n",
        "    records = zip(ids, xc, metadatas)\n",
        "    # upsert to Pinecone\n",
        "    index.upsert(vectors=records)\n",
        "\n",
        "# check number of records in the index\n",
        "index.describe_index_stats()"
      ]
    },
    {
      "attachments": {},
      "cell_type": "markdown",
      "metadata": {
        "id": "VrK_IN079Vuu"
      },
      "source": [
        "## Making Queries"
      ]
    },
    {
      "attachments": {},
      "cell_type": "markdown",
      "metadata": {
        "id": "rr4unPAq9alb"
      },
      "source": [
        "Now that our index is populated we can begin making queries. We are performing a semantic search for *similar questions*, so we should embed and search with another question. Let's begin."
      ]
    },
    {
      "cell_type": "code",
      "execution_count": 20,
      "metadata": {
        "colab": {
          "base_uri": "https://localhost:8080/"
        },
        "id": "JWcO7jAK-N_1",
        "outputId": "db437488-c928-4fd7-e4b7-83c93ac67f88"
      },
      "outputs": [
        {
          "data": {
            "text/plain": [
              "{'matches': [{'id': '31072',\n",
              "              'metadata': {'text': 'What country has the biggest population?'},\n",
              "              'score': 0.7655585,\n",
              "              'sparse_values': {'indices': [], 'values': []},\n",
              "              'values': []},\n",
              "             {'id': '23769',\n",
              "              'metadata': {'text': 'What is the biggest city?'},\n",
              "              'score': 0.7271395,\n",
              "              'sparse_values': {'indices': [], 'values': []},\n",
              "              'values': []},\n",
              "             {'id': '65783',\n",
              "              'metadata': {'text': 'What is the most isolated city in the '\n",
              "                                   'world, with over a million metro area '\n",
              "                                   'inhabitants?'},\n",
              "              'score': 0.7020447,\n",
              "              'sparse_values': {'indices': [], 'values': []},\n",
              "              'values': []},\n",
              "             {'id': '104484',\n",
              "              'metadata': {'text': 'Which is the most beautiful city in '\n",
              "                                   'world?'},\n",
              "              'score': 0.69991666,\n",
              "              'sparse_values': {'indices': [], 'values': []},\n",
              "              'values': []},\n",
              "             {'id': '79997',\n",
              "              'metadata': {'text': 'Where is the most beautiful city in the '\n",
              "                                   'world?'},\n",
              "              'score': 0.69605494,\n",
              "              'sparse_values': {'indices': [], 'values': []},\n",
              "              'values': []}],\n",
              " 'namespace': ''}"
            ]
          },
          "execution_count": 20,
          "metadata": {},
          "output_type": "execute_result"
        }
      ],
      "source": [
        "query = \"which city has the highest population in the world?\"\n",
        "\n",
        "# create the query vector\n",
        "xq = model.encode(query).tolist()\n",
        "\n",
        "# now query\n",
        "xc = index.query(xq, top_k=5, include_metadata=True)\n",
        "xc"
      ]
    },
    {
      "attachments": {},
      "cell_type": "markdown",
      "metadata": {
        "id": "-XwOWcgo_QtI"
      },
      "source": [
        "In the returned response `xc` we can see the most relevant questions to our particular query. We can reformat this response to be a little easier to read:"
      ]
    },
    {
      "cell_type": "code",
      "execution_count": 21,
      "metadata": {
        "colab": {
          "base_uri": "https://localhost:8080/"
        },
        "id": "gy7isg_f-vWg",
        "outputId": "bbeee182-8e31-4bba-da39-38521b13683f"
      },
      "outputs": [
        {
          "name": "stdout",
          "output_type": "stream",
          "text": [
            "0.77: What country has the biggest population?\n",
            "0.73: What is the biggest city?\n",
            "0.7: What is the most isolated city in the world, with over a million metro area inhabitants?\n",
            "0.7: Which is the most beautiful city in world?\n",
            "0.7: Where is the most beautiful city in the world?\n"
          ]
        }
      ],
      "source": [
        "for result in xc['matches']:\n",
        "    print(f\"{round(result['score'], 2)}: {result['metadata']['text']}\")"
      ]
    },
    {
      "attachments": {},
      "cell_type": "markdown",
      "metadata": {
        "id": "1JK5yApl_5fE"
      },
      "source": [
        "These are good results, let's try and modify the words being used to see if we still surface similar results."
      ]
    },
    {
      "cell_type": "code",
      "execution_count": 23,
      "metadata": {
        "colab": {
          "base_uri": "https://localhost:8080/"
        },
        "id": "dJbjE-iq_yMr",
        "outputId": "b81c67b1-9fe7-48c3-d2b0-14100cbbc25d"
      },
      "outputs": [
        {
          "name": "stdout",
          "output_type": "stream",
          "text": [
            "0.67: What is the most isolated city in the world, with over a million metro area inhabitants?\n",
            "0.64: What is the biggest city?\n",
            "0.61: Which place has the highest Asian Indian population in the USA?\n",
            "0.6: What is the most dangerous city in USA?\n",
            "0.59: What country has the biggest population?\n"
          ]
        }
      ],
      "source": [
        "query = \"which metropolis has the highest number of people?\"\n",
        "\n",
        "# create the query vector\n",
        "xq = model.encode(query).tolist()\n",
        "\n",
        "# now query\n",
        "xc = index.query(xq, top_k=5, include_metadata=True)\n",
        "for result in xc['matches']:\n",
        "    print(f\"{round(result['score'], 2)}: {result['metadata']['text']}\")"
      ]
    },
    {
      "attachments": {},
      "cell_type": "markdown",
      "metadata": {
        "id": "HIAxOPb-A2w_"
      },
      "source": [
        "Here we used different terms in our query than that of the returned documents. We substituted **\"city\"** for **\"metropolis\"** and **\"populated\"** for **\"number of people\"**.\n",
        "\n",
        "Despite these very different terms and *lack* of term overlap between query and returned documents — we get highly relevant results — this is the power of *semantic search*.\n",
        "\n",
        "You can go ahead and ask more questions above. When you're done, delete the index to save resources:"
      ]
    },
    {
      "cell_type": "code",
      "execution_count": 24,
      "metadata": {
        "id": "-cWdeKzhAtww"
      },
      "outputs": [],
      "source": [
        "pinecone.delete_index(index_name)"
      ]
    },
    {
      "attachments": {},
      "cell_type": "markdown",
      "metadata": {
        "id": "PMMJSu_DbRx0"
      },
      "source": [
        "---"
      ]
    }
  ],
  "metadata": {
    "accelerator": "GPU",
    "colab": {
      "gpuType": "T4",
      "provenance": []
    },
    "gpuClass": "standard",
    "kernelspec": {
      "display_name": "Python 3",
      "name": "python3"
    },
    "language_info": {
      "codemirror_mode": {
        "name": "ipython",
        "version": 3
      },
      "file_extension": ".py",
      "mimetype": "text/x-python",
      "name": "python",
      "nbconvert_exporter": "python",
      "pygments_lexer": "ipython3",
      "version": "3.11.6"
    },
    "widgets": {
      "application/vnd.jupyter.widget-state+json": {
        "0e5dc9a271184100a92cd6b373ab8e7d": {
          "model_module": "@jupyter-widgets/controls",
          "model_module_version": "1.5.0",
          "model_name": "HBoxModel",
          "state": {
            "_dom_classes": [],
            "_model_module": "@jupyter-widgets/controls",
            "_model_module_version": "1.5.0",
            "_model_name": "HBoxModel",
            "_view_count": null,
            "_view_module": "@jupyter-widgets/controls",
            "_view_module_version": "1.5.0",
            "_view_name": "HBoxView",
            "box_style": "",
            "children": [
              "IPY_MODEL_8396bfd36c2b4869a0b4680587b604f1",
              "IPY_MODEL_d714f8b3ebca4195b747ab18d196b88b",
              "IPY_MODEL_56266bc7062541f5ba042848205270ef"
            ],
            "layout": "IPY_MODEL_78fab28034dd428c9f49a5653fd003e5"
          }
        },
        "12e8c994f3ac4f88ae5387c72b4d8cc7": {
          "model_module": "@jupyter-widgets/controls",
          "model_module_version": "1.5.0",
          "model_name": "ProgressStyleModel",
          "state": {
            "_model_module": "@jupyter-widgets/controls",
            "_model_module_version": "1.5.0",
            "_model_name": "ProgressStyleModel",
            "_view_count": null,
            "_view_module": "@jupyter-widgets/base",
            "_view_module_version": "1.2.0",
            "_view_name": "StyleView",
            "bar_color": null,
            "description_width": ""
          }
        },
        "56266bc7062541f5ba042848205270ef": {
          "model_module": "@jupyter-widgets/controls",
          "model_module_version": "1.5.0",
          "model_name": "HTMLModel",
          "state": {
            "_dom_classes": [],
            "_model_module": "@jupyter-widgets/controls",
            "_model_module_version": "1.5.0",
            "_model_name": "HTMLModel",
            "_view_count": null,
            "_view_module": "@jupyter-widgets/controls",
            "_view_module_version": "1.5.0",
            "_view_name": "HTMLView",
            "description": "",
            "description_tooltip": null,
            "layout": "IPY_MODEL_9ea70e9ea5fb4040a080b941950b0fef",
            "placeholder": "​",
            "style": "IPY_MODEL_b30a98ddfc1841e381937571edcfae71",
            "value": " 1063/1063 [02:48&lt;00:00,  6.41it/s]"
          }
        },
        "78fab28034dd428c9f49a5653fd003e5": {
          "model_module": "@jupyter-widgets/base",
          "model_module_version": "1.2.0",
          "model_name": "LayoutModel",
          "state": {
            "_model_module": "@jupyter-widgets/base",
            "_model_module_version": "1.2.0",
            "_model_name": "LayoutModel",
            "_view_count": null,
            "_view_module": "@jupyter-widgets/base",
            "_view_module_version": "1.2.0",
            "_view_name": "LayoutView",
            "align_content": null,
            "align_items": null,
            "align_self": null,
            "border": null,
            "bottom": null,
            "display": null,
            "flex": null,
            "flex_flow": null,
            "grid_area": null,
            "grid_auto_columns": null,
            "grid_auto_flow": null,
            "grid_auto_rows": null,
            "grid_column": null,
            "grid_gap": null,
            "grid_row": null,
            "grid_template_areas": null,
            "grid_template_columns": null,
            "grid_template_rows": null,
            "height": null,
            "justify_content": null,
            "justify_items": null,
            "left": null,
            "margin": null,
            "max_height": null,
            "max_width": null,
            "min_height": null,
            "min_width": null,
            "object_fit": null,
            "object_position": null,
            "order": null,
            "overflow": null,
            "overflow_x": null,
            "overflow_y": null,
            "padding": null,
            "right": null,
            "top": null,
            "visibility": null,
            "width": null
          }
        },
        "8396bfd36c2b4869a0b4680587b604f1": {
          "model_module": "@jupyter-widgets/controls",
          "model_module_version": "1.5.0",
          "model_name": "HTMLModel",
          "state": {
            "_dom_classes": [],
            "_model_module": "@jupyter-widgets/controls",
            "_model_module_version": "1.5.0",
            "_model_name": "HTMLModel",
            "_view_count": null,
            "_view_module": "@jupyter-widgets/controls",
            "_view_module_version": "1.5.0",
            "_view_name": "HTMLView",
            "description": "",
            "description_tooltip": null,
            "layout": "IPY_MODEL_d8ca1c42783f41a8bd17491073883fdd",
            "placeholder": "​",
            "style": "IPY_MODEL_cffd5e66b82344b0946630eb320ca5b4",
            "value": "100%"
          }
        },
        "9ea70e9ea5fb4040a080b941950b0fef": {
          "model_module": "@jupyter-widgets/base",
          "model_module_version": "1.2.0",
          "model_name": "LayoutModel",
          "state": {
            "_model_module": "@jupyter-widgets/base",
            "_model_module_version": "1.2.0",
            "_model_name": "LayoutModel",
            "_view_count": null,
            "_view_module": "@jupyter-widgets/base",
            "_view_module_version": "1.2.0",
            "_view_name": "LayoutView",
            "align_content": null,
            "align_items": null,
            "align_self": null,
            "border": null,
            "bottom": null,
            "display": null,
            "flex": null,
            "flex_flow": null,
            "grid_area": null,
            "grid_auto_columns": null,
            "grid_auto_flow": null,
            "grid_auto_rows": null,
            "grid_column": null,
            "grid_gap": null,
            "grid_row": null,
            "grid_template_areas": null,
            "grid_template_columns": null,
            "grid_template_rows": null,
            "height": null,
            "justify_content": null,
            "justify_items": null,
            "left": null,
            "margin": null,
            "max_height": null,
            "max_width": null,
            "min_height": null,
            "min_width": null,
            "object_fit": null,
            "object_position": null,
            "order": null,
            "overflow": null,
            "overflow_x": null,
            "overflow_y": null,
            "padding": null,
            "right": null,
            "top": null,
            "visibility": null,
            "width": null
          }
        },
        "b30a98ddfc1841e381937571edcfae71": {
          "model_module": "@jupyter-widgets/controls",
          "model_module_version": "1.5.0",
          "model_name": "DescriptionStyleModel",
          "state": {
            "_model_module": "@jupyter-widgets/controls",
            "_model_module_version": "1.5.0",
            "_model_name": "DescriptionStyleModel",
            "_view_count": null,
            "_view_module": "@jupyter-widgets/base",
            "_view_module_version": "1.2.0",
            "_view_name": "StyleView",
            "description_width": ""
          }
        },
        "b63c0eee680f4708a4c68a4746cb21a4": {
          "model_module": "@jupyter-widgets/base",
          "model_module_version": "1.2.0",
          "model_name": "LayoutModel",
          "state": {
            "_model_module": "@jupyter-widgets/base",
            "_model_module_version": "1.2.0",
            "_model_name": "LayoutModel",
            "_view_count": null,
            "_view_module": "@jupyter-widgets/base",
            "_view_module_version": "1.2.0",
            "_view_name": "LayoutView",
            "align_content": null,
            "align_items": null,
            "align_self": null,
            "border": null,
            "bottom": null,
            "display": null,
            "flex": null,
            "flex_flow": null,
            "grid_area": null,
            "grid_auto_columns": null,
            "grid_auto_flow": null,
            "grid_auto_rows": null,
            "grid_column": null,
            "grid_gap": null,
            "grid_row": null,
            "grid_template_areas": null,
            "grid_template_columns": null,
            "grid_template_rows": null,
            "height": null,
            "justify_content": null,
            "justify_items": null,
            "left": null,
            "margin": null,
            "max_height": null,
            "max_width": null,
            "min_height": null,
            "min_width": null,
            "object_fit": null,
            "object_position": null,
            "order": null,
            "overflow": null,
            "overflow_x": null,
            "overflow_y": null,
            "padding": null,
            "right": null,
            "top": null,
            "visibility": null,
            "width": null
          }
        },
        "cffd5e66b82344b0946630eb320ca5b4": {
          "model_module": "@jupyter-widgets/controls",
          "model_module_version": "1.5.0",
          "model_name": "DescriptionStyleModel",
          "state": {
            "_model_module": "@jupyter-widgets/controls",
            "_model_module_version": "1.5.0",
            "_model_name": "DescriptionStyleModel",
            "_view_count": null,
            "_view_module": "@jupyter-widgets/base",
            "_view_module_version": "1.2.0",
            "_view_name": "StyleView",
            "description_width": ""
          }
        },
        "d714f8b3ebca4195b747ab18d196b88b": {
          "model_module": "@jupyter-widgets/controls",
          "model_module_version": "1.5.0",
          "model_name": "FloatProgressModel",
          "state": {
            "_dom_classes": [],
            "_model_module": "@jupyter-widgets/controls",
            "_model_module_version": "1.5.0",
            "_model_name": "FloatProgressModel",
            "_view_count": null,
            "_view_module": "@jupyter-widgets/controls",
            "_view_module_version": "1.5.0",
            "_view_name": "ProgressView",
            "bar_style": "success",
            "description": "",
            "description_tooltip": null,
            "layout": "IPY_MODEL_b63c0eee680f4708a4c68a4746cb21a4",
            "max": 1063,
            "min": 0,
            "orientation": "horizontal",
            "style": "IPY_MODEL_12e8c994f3ac4f88ae5387c72b4d8cc7",
            "value": 1063
          }
        },
        "d8ca1c42783f41a8bd17491073883fdd": {
          "model_module": "@jupyter-widgets/base",
          "model_module_version": "1.2.0",
          "model_name": "LayoutModel",
          "state": {
            "_model_module": "@jupyter-widgets/base",
            "_model_module_version": "1.2.0",
            "_model_name": "LayoutModel",
            "_view_count": null,
            "_view_module": "@jupyter-widgets/base",
            "_view_module_version": "1.2.0",
            "_view_name": "LayoutView",
            "align_content": null,
            "align_items": null,
            "align_self": null,
            "border": null,
            "bottom": null,
            "display": null,
            "flex": null,
            "flex_flow": null,
            "grid_area": null,
            "grid_auto_columns": null,
            "grid_auto_flow": null,
            "grid_auto_rows": null,
            "grid_column": null,
            "grid_gap": null,
            "grid_row": null,
            "grid_template_areas": null,
            "grid_template_columns": null,
            "grid_template_rows": null,
            "height": null,
            "justify_content": null,
            "justify_items": null,
            "left": null,
            "margin": null,
            "max_height": null,
            "max_width": null,
            "min_height": null,
            "min_width": null,
            "object_fit": null,
            "object_position": null,
            "order": null,
            "overflow": null,
            "overflow_x": null,
            "overflow_y": null,
            "padding": null,
            "right": null,
            "top": null,
            "visibility": null,
            "width": null
          }
        }
      }
    }
  },
  "nbformat": 4,
  "nbformat_minor": 0
}
