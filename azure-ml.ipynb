{
 "cells": [
  {
   "cell_type": "markdown",
   "metadata": {},
   "source": [
    "# Testing Azure ML"
   ]
  },
  {
   "cell_type": "code",
   "execution_count": null,
   "metadata": {},
   "outputs": [],
   "source": [
    "from azureml.core import ScriptRunConfig, Environment, Workspace\n",
    "\n",
    "ws = Workspace.from_config()  # or provide details to connect to your workspace\n",
    "compute_target = ws.compute_targets['your_compute_cluster_name']\n",
    "env = Environment.get(workspace=ws, name='your_environment_name')\n",
    "\n",
    "src = ScriptRunConfig(source_directory='.',\n",
    "                      script='your_script.py',\n",
    "                      compute_target=compute_target,\n",
    "                      environment=env)"
   ]
  }
 ],
 "metadata": {
  "language_info": {
   "name": "python"
  },
  "orig_nbformat": 4
 },
 "nbformat": 4,
 "nbformat_minor": 2
}
